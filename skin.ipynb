{
  "nbformat": 4,
  "nbformat_minor": 0,
  "metadata": {
    "colab": {
      "provenance": [],
      "include_colab_link": true
    },
    "kernelspec": {
      "name": "python3",
      "display_name": "Python 3"
    },
    "language_info": {
      "name": "python"
    }
  },
  "cells": [
    {
      "cell_type": "markdown",
      "metadata": {
        "id": "view-in-github",
        "colab_type": "text"
      },
      "source": [
        "<a href=\"https://colab.research.google.com/github/koyarekoikoi/tkpj/blob/main/skin.ipynb\" target=\"_parent\"><img src=\"https://colab.research.google.com/assets/colab-badge.svg\" alt=\"Open In Colab\"/></a>"
      ]
    },
    {
      "cell_type": "code",
      "source": [
        "import os\n",
        "import numpy as np\n",
        "import pandas as pd\n",
        "import cv2\n",
        "import tensorflow as tf\n",
        "from tensorflow.keras.applications import VGG16, ResNet50\n",
        "from tensorflow.keras.models import Sequential, Model\n",
        "from tensorflow.keras.layers import Dense, Flatten, Dropout, Conv2D, MaxPooling2D\n",
        "from tensorflow.keras.preprocessing.image import ImageDataGenerator\n",
        "from sklearn.model_selection import train_test_split\n",
        "from sklearn.preprocessing import LabelEncoder, StandardScaler\n",
        "from sklearn.decomposition import PCA\n",
        "from sklearn.ensemble import RandomForestClassifier\n",
        "from sklearn.svm import SVC\n",
        "from sklearn.metrics import accuracy_score\n",
        "from tqdm import tqdm"
      ],
      "metadata": {
        "id": "9Lon2yyL67Gk"
      },
      "execution_count": 2,
      "outputs": []
    },
    {
      "cell_type": "code",
      "source": [
        "import tensorflow as tf\n",
        "print(\"Num GPUs Available: \", len(tf.config.experimental.list_physical_devices('GPU')))"
      ],
      "metadata": {
        "id": "sEdsm1aanW39"
      },
      "execution_count": null,
      "outputs": []
    },
    {
      "cell_type": "code",
      "source": [
        "from google.colab import drive\n",
        "drive.mount('/content/drive')"
      ],
      "metadata": {
        "colab": {
          "base_uri": "https://localhost:8080/"
        },
        "id": "SPcSOAZoZqRu",
        "outputId": "bfaa0909-1ac2-4833-9204-63b20af4fddc"
      },
      "execution_count": 3,
      "outputs": [
        {
          "output_type": "stream",
          "name": "stdout",
          "text": [
            "Mounted at /content/drive\n"
          ]
        }
      ]
    },
    {
      "cell_type": "code",
      "source": [
        "# Define paths\n",
        "metadata_path = \"/content/drive/MyDrive/SKIN/HAM10000_metadata.csv\"\n",
        "images_path_1 = \"/content/drive/MyDrive/SKIN/HAM10000_images_part_1\"\n",
        "images_path_2 = \"/content/drive/MyDrive/SKIN/HAM10000_images_part_2\""
      ],
      "metadata": {
        "id": "tAslQMg36_59"
      },
      "execution_count": 4,
      "outputs": []
    },
    {
      "cell_type": "code",
      "source": [
        "# Load metadata\n",
        "df = pd.read_csv(metadata_path)"
      ],
      "metadata": {
        "id": "l1ABmVcX7QoG"
      },
      "execution_count": 5,
      "outputs": []
    },
    {
      "cell_type": "code",
      "source": [
        "# Image processing function\n",
        "def load_images(image_ids, image_folder, target_size=(128, 128)):\n",
        "    images = []\n",
        "    for img_id in tqdm(image_ids):\n",
        "        img_path = os.path.join(image_folder, img_id + \".jpg\")\n",
        "        if os.path.exists(img_path):\n",
        "            img = cv2.imread(img_path)\n",
        "            img = cv2.resize(img, target_size)\n",
        "            img = img / 255.0  # Normalize\n",
        "            images.append(img)\n",
        "    return np.array(images)"
      ],
      "metadata": {
        "id": "SPipvwi67S3D"
      },
      "execution_count": 6,
      "outputs": []
    },
    {
      "cell_type": "code",
      "source": [
        "# Load images from both folders\n",
        "X_images = load_images(df['image_id'], images_path_1)\n",
        "X_images2 = load_images(df['image_id'], images_path_2)\n",
        "X = np.concatenate([X_images, X_images2])"
      ],
      "metadata": {
        "colab": {
          "base_uri": "https://localhost:8080/"
        },
        "id": "p3sKUYj87VfH",
        "outputId": "60834c86-d570-45fa-e176-8c30770b5d31"
      },
      "execution_count": 7,
      "outputs": [
        {
          "output_type": "stream",
          "name": "stderr",
          "text": [
            "100%|██████████| 10015/10015 [29:18<00:00,  5.69it/s]\n",
            "100%|██████████| 10015/10015 [32:47<00:00,  5.09it/s]\n"
          ]
        }
      ]
    },
    {
      "cell_type": "code",
      "source": [
        "# Remaining Imports to load model, can be done on init import\n",
        "import pickle\n",
        "from tensorflow.keras.models import load_model\n"
      ],
      "metadata": {
        "id": "2qFjPiz_sWTf"
      },
      "execution_count": 8,
      "outputs": []
    },
    {
      "cell_type": "code",
      "source": [
        "# Encode labels\n",
        "label_encoder = LabelEncoder()\n",
        "y = label_encoder.fit_transform(df['dx'])"
      ],
      "metadata": {
        "id": "G3tkcBkP7YsG"
      },
      "execution_count": 66,
      "outputs": []
    },
    {
      "cell_type": "code",
      "source": [
        "# Train-test split\n",
        "#X_train, X_test, y_train, y_test = train_test_split(X, y, test_size=0.2, random_state=42, stratify=y)\n",
        "\n",
        "# Train-test split\n",
        "X_train, X_test, y_train, y_test = train_test_split(X, y, test_size=0.2, random_state=42, stratify=y)"
      ],
      "metadata": {
        "id": "lDWydQgZ97Qm"
      },
      "execution_count": 67,
      "outputs": []
    },
    {
      "cell_type": "code",
      "source": [
        "from tensorflow.keras.utils import to_categorical\n",
        "\n",
        "# One-hot encode y_train and y_test\n",
        "y_train = to_categorical(y_train, num_classes=10)\n",
        "y_test = to_categorical(y_test, num_classes=10)\n",
        "\n",
        "# Check the new shapes\n",
        "print(\"One-hot encoded y_train shape:\", y_train.shape)\n",
        "print(\"One-hot encoded y_test shape:\", y_test.shape)\n",
        "\n"
      ],
      "metadata": {
        "colab": {
          "base_uri": "https://localhost:8080/"
        },
        "id": "YHLV60CanoSX",
        "outputId": "435f1b38-76ba-4423-dea5-a4c297905df9"
      },
      "execution_count": 69,
      "outputs": [
        {
          "output_type": "stream",
          "name": "stdout",
          "text": [
            "One-hot encoded y_train shape: (8012, 10)\n",
            "One-hot encoded y_test shape: (2003, 10)\n"
          ]
        }
      ]
    },
    {
      "cell_type": "code",
      "source": [
        "def build_cnn_model():\n",
        "    model = Sequential()\n",
        "    model.add(Conv2D(32, (3, 3), activation='relu', input_shape=(128, 128, 3)))  # Example input shape\n",
        "    model.add(MaxPooling2D((2, 2)))\n",
        "    model.add(Flatten())\n",
        "    model.add(Dense(128, activation='relu'))\n",
        "    model.add(Dense(10, activation='softmax'))  # Output layer for 10 classes\n",
        "    model.compile(optimizer='adam', loss='categorical_crossentropy', metrics=['accuracy'])\n",
        "    return model\n"
      ],
      "metadata": {
        "id": "iTf51w9X9-G-"
      },
      "execution_count": 70,
      "outputs": []
    },
    {
      "cell_type": "code",
      "source": [
        "tpu = tf.distribute.cluster_resolver.TPUClusterResolver()  # Detect TPU\n",
        "tf.config.experimental_connect_to_cluster(tpu)  # Connect to TPU\n",
        "tf.tpu.experimental.initialize_tpu_system(tpu)  # Initialize the TPU\n"
      ],
      "metadata": {
        "colab": {
          "base_uri": "https://localhost:8080/"
        },
        "id": "Y5k158oss3yN",
        "outputId": "c6ba9c5a-5bdc-4ad6-dc97-e36e568a2f70"
      },
      "execution_count": 76,
      "outputs": [
        {
          "output_type": "execute_result",
          "data": {
            "text/plain": [
              "<tensorflow.python.tpu.topology.Topology at 0x7a6fe29be150>"
            ]
          },
          "metadata": {},
          "execution_count": 76
        }
      ]
    },
    {
      "cell_type": "code",
      "source": [
        "# Create TPU strategy\n",
        "strategy = tf.distribute.TPUStrategy(tpu)\n",
        "\n",
        "# Define and compile your model inside the TPU strategy scope\n",
        "with strategy.scope():\n",
        "    cnn_model = build_cnn_model()\n",
        "    cnn_model.compile(optimizer='adam', loss='categorical_crossentropy', metrics=['accuracy'])\n",
        "\n",
        "# Now train the model\n",
        "#cnn_model.fit(X_train, y_train, epochs=10, batch_size=32, validation_data=(X_test, y_test))\n",
        "# Train the model\n",
        "cnn_model.fit(X_train, y_train, epochs=100, batch_size=32, validation_data=(X_test, y_test))\n",
        "\n",
        "# Evaluate the model on test data\n",
        "test_loss, test_accuracy = cnn_model.evaluate(X_test, y_test)\n",
        "print(f\"Test Accuracy: {test_accuracy * 100:.2f}%\")"
      ],
      "metadata": {
        "colab": {
          "base_uri": "https://localhost:8080/"
        },
        "id": "DyApaj6WtV4k",
        "outputId": "221d048a-2ef7-4fdd-fcb9-aa89313c6975"
      },
      "execution_count": 89,
      "outputs": [
        {
          "output_type": "stream",
          "name": "stdout",
          "text": [
            "Epoch 1/100\n",
            "\u001b[1m251/251\u001b[0m \u001b[32m━━━━━━━━━━━━━━━━━━━━\u001b[0m\u001b[37m\u001b[0m \u001b[1m23s\u001b[0m 70ms/step - accuracy: 0.6431 - loss: 1.1994 - val_accuracy: 0.6614 - val_loss: 1.0988\n",
            "Epoch 2/100\n",
            "\u001b[1m251/251\u001b[0m \u001b[32m━━━━━━━━━━━━━━━━━━━━\u001b[0m\u001b[37m\u001b[0m \u001b[1m9s\u001b[0m 35ms/step - accuracy: 0.6832 - loss: 1.0493 - val_accuracy: 0.6614 - val_loss: 1.0562\n",
            "Epoch 3/100\n",
            "\u001b[1m251/251\u001b[0m \u001b[32m━━━━━━━━━━━━━━━━━━━━\u001b[0m\u001b[37m\u001b[0m \u001b[1m9s\u001b[0m 35ms/step - accuracy: 0.6826 - loss: 1.0299 - val_accuracy: 0.6614 - val_loss: 1.0841\n",
            "Epoch 4/100\n",
            "\u001b[1m251/251\u001b[0m \u001b[32m━━━━━━━━━━━━━━━━━━━━\u001b[0m\u001b[37m\u001b[0m \u001b[1m10s\u001b[0m 36ms/step - accuracy: 0.6781 - loss: 0.9745 - val_accuracy: 0.6614 - val_loss: 1.0434\n",
            "Epoch 5/100\n",
            "\u001b[1m251/251\u001b[0m \u001b[32m━━━━━━━━━━━━━━━━━━━━\u001b[0m\u001b[37m\u001b[0m \u001b[1m9s\u001b[0m 36ms/step - accuracy: 0.6799 - loss: 0.9483 - val_accuracy: 0.6614 - val_loss: 1.0615\n",
            "Epoch 6/100\n",
            "\u001b[1m251/251\u001b[0m \u001b[32m━━━━━━━━━━━━━━━━━━━━\u001b[0m\u001b[37m\u001b[0m \u001b[1m9s\u001b[0m 36ms/step - accuracy: 0.7076 - loss: 0.9007 - val_accuracy: 0.6614 - val_loss: 1.0301\n",
            "Epoch 7/100\n",
            "\u001b[1m251/251\u001b[0m \u001b[32m━━━━━━━━━━━━━━━━━━━━\u001b[0m\u001b[37m\u001b[0m \u001b[1m9s\u001b[0m 35ms/step - accuracy: 0.6756 - loss: 0.9590 - val_accuracy: 0.6614 - val_loss: 1.0506\n",
            "Epoch 8/100\n",
            "\u001b[1m251/251\u001b[0m \u001b[32m━━━━━━━━━━━━━━━━━━━━\u001b[0m\u001b[37m\u001b[0m \u001b[1m9s\u001b[0m 36ms/step - accuracy: 0.6728 - loss: 0.9595 - val_accuracy: 0.6614 - val_loss: 1.1076\n",
            "Epoch 9/100\n",
            "\u001b[1m251/251\u001b[0m \u001b[32m━━━━━━━━━━━━━━━━━━━━\u001b[0m\u001b[37m\u001b[0m \u001b[1m9s\u001b[0m 35ms/step - accuracy: 0.6708 - loss: 0.9643 - val_accuracy: 0.6614 - val_loss: 1.0358\n",
            "Epoch 10/100\n",
            "\u001b[1m251/251\u001b[0m \u001b[32m━━━━━━━━━━━━━━━━━━━━\u001b[0m\u001b[37m\u001b[0m \u001b[1m9s\u001b[0m 36ms/step - accuracy: 0.6701 - loss: 0.9291 - val_accuracy: 0.6614 - val_loss: 1.0595\n",
            "Epoch 11/100\n",
            "\u001b[1m251/251\u001b[0m \u001b[32m━━━━━━━━━━━━━━━━━━━━\u001b[0m\u001b[37m\u001b[0m \u001b[1m9s\u001b[0m 36ms/step - accuracy: 0.6981 - loss: 0.8801 - val_accuracy: 0.6614 - val_loss: 1.0191\n",
            "Epoch 12/100\n",
            "\u001b[1m251/251\u001b[0m \u001b[32m━━━━━━━━━━━━━━━━━━━━\u001b[0m\u001b[37m\u001b[0m \u001b[1m9s\u001b[0m 35ms/step - accuracy: 0.7105 - loss: 0.8411 - val_accuracy: 0.6614 - val_loss: 1.0677\n",
            "Epoch 13/100\n",
            "\u001b[1m251/251\u001b[0m \u001b[32m━━━━━━━━━━━━━━━━━━━━\u001b[0m\u001b[37m\u001b[0m \u001b[1m9s\u001b[0m 36ms/step - accuracy: 0.6686 - loss: 0.8922 - val_accuracy: 0.6574 - val_loss: 1.0059\n",
            "Epoch 14/100\n",
            "\u001b[1m251/251\u001b[0m \u001b[32m━━━━━━━━━━━━━━━━━━━━\u001b[0m\u001b[37m\u001b[0m \u001b[1m10s\u001b[0m 39ms/step - accuracy: 0.6746 - loss: 0.9026 - val_accuracy: 0.6534 - val_loss: 1.0218\n",
            "Epoch 15/100\n",
            "\u001b[1m251/251\u001b[0m \u001b[32m━━━━━━━━━━━━━━━━━━━━\u001b[0m\u001b[37m\u001b[0m \u001b[1m9s\u001b[0m 35ms/step - accuracy: 0.6895 - loss: 0.9083 - val_accuracy: 0.6534 - val_loss: 1.0253\n",
            "Epoch 16/100\n",
            "\u001b[1m251/251\u001b[0m \u001b[32m━━━━━━━━━━━━━━━━━━━━\u001b[0m\u001b[37m\u001b[0m \u001b[1m10s\u001b[0m 35ms/step - accuracy: 0.6576 - loss: 0.9157 - val_accuracy: 0.6534 - val_loss: 1.0321\n",
            "Epoch 17/100\n",
            "\u001b[1m251/251\u001b[0m \u001b[32m━━━━━━━━━━━━━━━━━━━━\u001b[0m\u001b[37m\u001b[0m \u001b[1m9s\u001b[0m 35ms/step - accuracy: 0.6804 - loss: 0.8458 - val_accuracy: 0.6574 - val_loss: 1.0692\n",
            "Epoch 18/100\n",
            "\u001b[1m251/251\u001b[0m \u001b[32m━━━━━━━━━━━━━━━━━━━━\u001b[0m\u001b[37m\u001b[0m \u001b[1m9s\u001b[0m 36ms/step - accuracy: 0.6891 - loss: 0.8571 - val_accuracy: 0.6534 - val_loss: 1.0429\n",
            "Epoch 19/100\n",
            "\u001b[1m251/251\u001b[0m \u001b[32m━━━━━━━━━━━━━━━━━━━━\u001b[0m\u001b[37m\u001b[0m \u001b[1m9s\u001b[0m 35ms/step - accuracy: 0.6412 - loss: 0.8765 - val_accuracy: 0.6653 - val_loss: 1.0308\n",
            "Epoch 20/100\n",
            "\u001b[1m251/251\u001b[0m \u001b[32m━━━━━━━━━━━━━━━━━━━━\u001b[0m\u001b[37m\u001b[0m \u001b[1m9s\u001b[0m 36ms/step - accuracy: 0.6559 - loss: 0.8576 - val_accuracy: 0.6614 - val_loss: 1.0386\n",
            "Epoch 21/100\n",
            "\u001b[1m251/251\u001b[0m \u001b[32m━━━━━━━━━━━━━━━━━━━━\u001b[0m\u001b[37m\u001b[0m \u001b[1m9s\u001b[0m 35ms/step - accuracy: 0.6952 - loss: 0.7942 - val_accuracy: 0.6454 - val_loss: 1.1494\n",
            "Epoch 22/100\n",
            "\u001b[1m251/251\u001b[0m \u001b[32m━━━━━━━━━━━━━━━━━━━━\u001b[0m\u001b[37m\u001b[0m \u001b[1m9s\u001b[0m 35ms/step - accuracy: 0.6770 - loss: 0.7951 - val_accuracy: 0.6574 - val_loss: 1.1787\n",
            "Epoch 23/100\n",
            "\u001b[1m251/251\u001b[0m \u001b[32m━━━━━━━━━━━━━━━━━━━━\u001b[0m\u001b[37m\u001b[0m \u001b[1m9s\u001b[0m 35ms/step - accuracy: 0.6491 - loss: 0.8509 - val_accuracy: 0.6574 - val_loss: 1.1538\n",
            "Epoch 24/100\n",
            "\u001b[1m251/251\u001b[0m \u001b[32m━━━━━━━━━━━━━━━━━━━━\u001b[0m\u001b[37m\u001b[0m \u001b[1m9s\u001b[0m 35ms/step - accuracy: 0.7022 - loss: 0.7468 - val_accuracy: 0.6494 - val_loss: 1.1944\n",
            "Epoch 25/100\n",
            "\u001b[1m251/251\u001b[0m \u001b[32m━━━━━━━━━━━━━━━━━━━━\u001b[0m\u001b[37m\u001b[0m \u001b[1m9s\u001b[0m 36ms/step - accuracy: 0.7033 - loss: 0.7441 - val_accuracy: 0.6494 - val_loss: 1.2721\n",
            "Epoch 26/100\n",
            "\u001b[1m251/251\u001b[0m \u001b[32m━━━━━━━━━━━━━━━━━━━━\u001b[0m\u001b[37m\u001b[0m \u001b[1m10s\u001b[0m 39ms/step - accuracy: 0.7022 - loss: 0.6988 - val_accuracy: 0.6614 - val_loss: 1.3980\n",
            "Epoch 27/100\n",
            "\u001b[1m251/251\u001b[0m \u001b[32m━━━━━━━━━━━━━━━━━━━━\u001b[0m\u001b[37m\u001b[0m \u001b[1m9s\u001b[0m 36ms/step - accuracy: 0.7378 - loss: 0.6416 - val_accuracy: 0.6534 - val_loss: 1.2671\n",
            "Epoch 28/100\n",
            "\u001b[1m251/251\u001b[0m \u001b[32m━━━━━━━━━━━━━━━━━━━━\u001b[0m\u001b[37m\u001b[0m \u001b[1m9s\u001b[0m 34ms/step - accuracy: 0.7338 - loss: 0.6420 - val_accuracy: 0.6614 - val_loss: 1.3081\n",
            "Epoch 29/100\n",
            "\u001b[1m251/251\u001b[0m \u001b[32m━━━━━━━━━━━━━━━━━━━━\u001b[0m\u001b[37m\u001b[0m \u001b[1m9s\u001b[0m 35ms/step - accuracy: 0.7183 - loss: 0.6484 - val_accuracy: 0.6614 - val_loss: 1.5831\n",
            "Epoch 30/100\n",
            "\u001b[1m251/251\u001b[0m \u001b[32m━━━━━━━━━━━━━━━━━━━━\u001b[0m\u001b[37m\u001b[0m \u001b[1m9s\u001b[0m 35ms/step - accuracy: 0.7457 - loss: 0.6116 - val_accuracy: 0.6295 - val_loss: 1.6194\n",
            "Epoch 31/100\n",
            "\u001b[1m251/251\u001b[0m \u001b[32m━━━━━━━━━━━━━━━━━━━━\u001b[0m\u001b[37m\u001b[0m \u001b[1m9s\u001b[0m 35ms/step - accuracy: 0.7801 - loss: 0.5548 - val_accuracy: 0.6335 - val_loss: 1.7909\n",
            "Epoch 32/100\n",
            "\u001b[1m251/251\u001b[0m \u001b[32m━━━━━━━━━━━━━━━━━━━━\u001b[0m\u001b[37m\u001b[0m \u001b[1m9s\u001b[0m 35ms/step - accuracy: 0.7590 - loss: 0.5805 - val_accuracy: 0.6215 - val_loss: 1.7093\n",
            "Epoch 33/100\n",
            "\u001b[1m251/251\u001b[0m \u001b[32m━━━━━━━━━━━━━━━━━━━━\u001b[0m\u001b[37m\u001b[0m \u001b[1m9s\u001b[0m 36ms/step - accuracy: 0.7801 - loss: 0.4761 - val_accuracy: 0.6175 - val_loss: 1.8439\n",
            "Epoch 34/100\n",
            "\u001b[1m251/251\u001b[0m \u001b[32m━━━━━━━━━━━━━━━━━━━━\u001b[0m\u001b[37m\u001b[0m \u001b[1m9s\u001b[0m 35ms/step - accuracy: 0.7738 - loss: 0.5445 - val_accuracy: 0.6375 - val_loss: 1.9616\n",
            "Epoch 35/100\n",
            "\u001b[1m251/251\u001b[0m \u001b[32m━━━━━━━━━━━━━━━━━━━━\u001b[0m\u001b[37m\u001b[0m \u001b[1m9s\u001b[0m 35ms/step - accuracy: 0.7963 - loss: 0.4865 - val_accuracy: 0.6494 - val_loss: 1.8429\n",
            "Epoch 36/100\n",
            "\u001b[1m251/251\u001b[0m \u001b[32m━━━━━━━━━━━━━━━━━━━━\u001b[0m\u001b[37m\u001b[0m \u001b[1m9s\u001b[0m 36ms/step - accuracy: 0.7935 - loss: 0.4567 - val_accuracy: 0.6255 - val_loss: 2.1514\n",
            "Epoch 37/100\n",
            "\u001b[1m251/251\u001b[0m \u001b[32m━━━━━━━━━━━━━━━━━━━━\u001b[0m\u001b[37m\u001b[0m \u001b[1m9s\u001b[0m 35ms/step - accuracy: 0.8018 - loss: 0.4742 - val_accuracy: 0.6335 - val_loss: 2.0565\n",
            "Epoch 38/100\n",
            "\u001b[1m251/251\u001b[0m \u001b[32m━━━━━━━━━━━━━━━━━━━━\u001b[0m\u001b[37m\u001b[0m \u001b[1m10s\u001b[0m 36ms/step - accuracy: 0.7899 - loss: 0.4478 - val_accuracy: 0.6414 - val_loss: 2.1901\n",
            "Epoch 39/100\n",
            "\u001b[1m251/251\u001b[0m \u001b[32m━━━━━━━━━━━━━━━━━━━━\u001b[0m\u001b[37m\u001b[0m \u001b[1m9s\u001b[0m 35ms/step - accuracy: 0.8388 - loss: 0.3811 - val_accuracy: 0.6255 - val_loss: 2.4030\n",
            "Epoch 40/100\n",
            "\u001b[1m251/251\u001b[0m \u001b[32m━━━━━━━━━━━━━━━━━━━━\u001b[0m\u001b[37m\u001b[0m \u001b[1m9s\u001b[0m 35ms/step - accuracy: 0.8404 - loss: 0.3792 - val_accuracy: 0.6295 - val_loss: 2.5733\n",
            "Epoch 41/100\n",
            "\u001b[1m251/251\u001b[0m \u001b[32m━━━━━━━━━━━━━━━━━━━━\u001b[0m\u001b[37m\u001b[0m \u001b[1m9s\u001b[0m 35ms/step - accuracy: 0.8375 - loss: 0.3737 - val_accuracy: 0.6295 - val_loss: 2.5693\n",
            "Epoch 42/100\n",
            "\u001b[1m251/251\u001b[0m \u001b[32m━━━━━━━━━━━━━━━━━━━━\u001b[0m\u001b[37m\u001b[0m \u001b[1m9s\u001b[0m 35ms/step - accuracy: 0.8611 - loss: 0.3379 - val_accuracy: 0.6215 - val_loss: 2.4357\n",
            "Epoch 43/100\n",
            "\u001b[1m251/251\u001b[0m \u001b[32m━━━━━━━━━━━━━━━━━━━━\u001b[0m\u001b[37m\u001b[0m \u001b[1m9s\u001b[0m 35ms/step - accuracy: 0.8397 - loss: 0.3700 - val_accuracy: 0.6175 - val_loss: 2.9160\n",
            "Epoch 44/100\n",
            "\u001b[1m251/251\u001b[0m \u001b[32m━━━━━━━━━━━━━━━━━━━━\u001b[0m\u001b[37m\u001b[0m \u001b[1m9s\u001b[0m 35ms/step - accuracy: 0.8569 - loss: 0.3193 - val_accuracy: 0.6175 - val_loss: 3.0994\n",
            "Epoch 45/100\n",
            "\u001b[1m251/251\u001b[0m \u001b[32m━━━━━━━━━━━━━━━━━━━━\u001b[0m\u001b[37m\u001b[0m \u001b[1m9s\u001b[0m 35ms/step - accuracy: 0.8876 - loss: 0.3131 - val_accuracy: 0.6135 - val_loss: 2.6632\n",
            "Epoch 46/100\n",
            "\u001b[1m251/251\u001b[0m \u001b[32m━━━━━━━━━━━━━━━━━━━━\u001b[0m\u001b[37m\u001b[0m \u001b[1m9s\u001b[0m 36ms/step - accuracy: 0.8921 - loss: 0.2468 - val_accuracy: 0.6175 - val_loss: 3.3098\n",
            "Epoch 47/100\n",
            "\u001b[1m251/251\u001b[0m \u001b[32m━━━━━━━━━━━━━━━━━━━━\u001b[0m\u001b[37m\u001b[0m \u001b[1m9s\u001b[0m 35ms/step - accuracy: 0.8990 - loss: 0.2566 - val_accuracy: 0.6375 - val_loss: 3.1275\n",
            "Epoch 48/100\n",
            "\u001b[1m251/251\u001b[0m \u001b[32m━━━━━━━━━━━━━━━━━━━━\u001b[0m\u001b[37m\u001b[0m \u001b[1m10s\u001b[0m 39ms/step - accuracy: 0.8964 - loss: 0.2572 - val_accuracy: 0.6375 - val_loss: 3.4747\n",
            "Epoch 49/100\n",
            "\u001b[1m251/251\u001b[0m \u001b[32m━━━━━━━━━━━━━━━━━━━━\u001b[0m\u001b[37m\u001b[0m \u001b[1m9s\u001b[0m 35ms/step - accuracy: 0.9231 - loss: 0.2126 - val_accuracy: 0.6454 - val_loss: 3.7560\n",
            "Epoch 50/100\n",
            "\u001b[1m251/251\u001b[0m \u001b[32m━━━━━━━━━━━━━━━━━━━━\u001b[0m\u001b[37m\u001b[0m \u001b[1m9s\u001b[0m 36ms/step - accuracy: 0.9132 - loss: 0.2232 - val_accuracy: 0.6056 - val_loss: 3.4356\n",
            "Epoch 51/100\n",
            "\u001b[1m251/251\u001b[0m \u001b[32m━━━━━━━━━━━━━━━━━━━━\u001b[0m\u001b[37m\u001b[0m \u001b[1m9s\u001b[0m 35ms/step - accuracy: 0.8998 - loss: 0.2322 - val_accuracy: 0.6175 - val_loss: 3.3228\n",
            "Epoch 52/100\n",
            "\u001b[1m251/251\u001b[0m \u001b[32m━━━━━━━━━━━━━━━━━━━━\u001b[0m\u001b[37m\u001b[0m \u001b[1m9s\u001b[0m 36ms/step - accuracy: 0.8992 - loss: 0.2513 - val_accuracy: 0.6414 - val_loss: 3.6835\n",
            "Epoch 53/100\n",
            "\u001b[1m251/251\u001b[0m \u001b[32m━━━━━━━━━━━━━━━━━━━━\u001b[0m\u001b[37m\u001b[0m \u001b[1m9s\u001b[0m 35ms/step - accuracy: 0.9323 - loss: 0.2013 - val_accuracy: 0.6335 - val_loss: 3.1483\n",
            "Epoch 54/100\n",
            "\u001b[1m251/251\u001b[0m \u001b[32m━━━━━━━━━━━━━━━━━━━━\u001b[0m\u001b[37m\u001b[0m \u001b[1m10s\u001b[0m 36ms/step - accuracy: 0.9231 - loss: 0.2235 - val_accuracy: 0.6375 - val_loss: 3.4525\n",
            "Epoch 55/100\n",
            "\u001b[1m251/251\u001b[0m \u001b[32m━━━━━━━━━━━━━━━━━━━━\u001b[0m\u001b[37m\u001b[0m \u001b[1m9s\u001b[0m 35ms/step - accuracy: 0.8995 - loss: 0.2112 - val_accuracy: 0.6255 - val_loss: 3.8617\n",
            "Epoch 56/100\n",
            "\u001b[1m251/251\u001b[0m \u001b[32m━━━━━━━━━━━━━━━━━━━━\u001b[0m\u001b[37m\u001b[0m \u001b[1m9s\u001b[0m 36ms/step - accuracy: 0.9192 - loss: 0.2140 - val_accuracy: 0.6175 - val_loss: 4.8235\n",
            "Epoch 57/100\n",
            "\u001b[1m251/251\u001b[0m \u001b[32m━━━━━━━━━━━━━━━━━━━━\u001b[0m\u001b[37m\u001b[0m \u001b[1m9s\u001b[0m 35ms/step - accuracy: 0.9342 - loss: 0.1846 - val_accuracy: 0.6295 - val_loss: 4.9590\n",
            "Epoch 58/100\n",
            "\u001b[1m251/251\u001b[0m \u001b[32m━━━━━━━━━━━━━━━━━━━━\u001b[0m\u001b[37m\u001b[0m \u001b[1m9s\u001b[0m 35ms/step - accuracy: 0.9314 - loss: 0.2013 - val_accuracy: 0.6414 - val_loss: 3.9928\n",
            "Epoch 59/100\n",
            "\u001b[1m251/251\u001b[0m \u001b[32m━━━━━━━━━━━━━━━━━━━━\u001b[0m\u001b[37m\u001b[0m \u001b[1m9s\u001b[0m 35ms/step - accuracy: 0.9292 - loss: 0.1906 - val_accuracy: 0.6295 - val_loss: 4.2660\n",
            "Epoch 60/100\n",
            "\u001b[1m251/251\u001b[0m \u001b[32m━━━━━━━━━━━━━━━━━━━━\u001b[0m\u001b[37m\u001b[0m \u001b[1m10s\u001b[0m 38ms/step - accuracy: 0.9449 - loss: 0.1312 - val_accuracy: 0.6175 - val_loss: 5.2023\n",
            "Epoch 61/100\n",
            "\u001b[1m251/251\u001b[0m \u001b[32m━━━━━━━━━━━━━━━━━━━━\u001b[0m\u001b[37m\u001b[0m \u001b[1m10s\u001b[0m 36ms/step - accuracy: 0.9220 - loss: 0.1840 - val_accuracy: 0.6414 - val_loss: 4.3932\n",
            "Epoch 62/100\n",
            "\u001b[1m251/251\u001b[0m \u001b[32m━━━━━━━━━━━━━━━━━━━━\u001b[0m\u001b[37m\u001b[0m \u001b[1m9s\u001b[0m 36ms/step - accuracy: 0.9496 - loss: 0.1366 - val_accuracy: 0.6175 - val_loss: 4.5485\n",
            "Epoch 63/100\n",
            "\u001b[1m251/251\u001b[0m \u001b[32m━━━━━━━━━━━━━━━━━━━━\u001b[0m\u001b[37m\u001b[0m \u001b[1m9s\u001b[0m 35ms/step - accuracy: 0.9427 - loss: 0.1508 - val_accuracy: 0.6335 - val_loss: 4.8695\n",
            "Epoch 64/100\n",
            "\u001b[1m251/251\u001b[0m \u001b[32m━━━━━━━━━━━━━━━━━━━━\u001b[0m\u001b[37m\u001b[0m \u001b[1m9s\u001b[0m 35ms/step - accuracy: 0.9610 - loss: 0.1236 - val_accuracy: 0.6295 - val_loss: 4.4622\n",
            "Epoch 65/100\n",
            "\u001b[1m251/251\u001b[0m \u001b[32m━━━━━━━━━━━━━━━━━━━━\u001b[0m\u001b[37m\u001b[0m \u001b[1m9s\u001b[0m 35ms/step - accuracy: 0.9429 - loss: 0.1548 - val_accuracy: 0.6255 - val_loss: 4.7860\n",
            "Epoch 66/100\n",
            "\u001b[1m251/251\u001b[0m \u001b[32m━━━━━━━━━━━━━━━━━━━━\u001b[0m\u001b[37m\u001b[0m \u001b[1m9s\u001b[0m 35ms/step - accuracy: 0.9346 - loss: 0.1747 - val_accuracy: 0.6255 - val_loss: 5.0328\n",
            "Epoch 67/100\n",
            "\u001b[1m251/251\u001b[0m \u001b[32m━━━━━━━━━━━━━━━━━━━━\u001b[0m\u001b[37m\u001b[0m \u001b[1m9s\u001b[0m 35ms/step - accuracy: 0.9350 - loss: 0.1678 - val_accuracy: 0.6414 - val_loss: 4.8361\n",
            "Epoch 68/100\n",
            "\u001b[1m251/251\u001b[0m \u001b[32m━━━━━━━━━━━━━━━━━━━━\u001b[0m\u001b[37m\u001b[0m \u001b[1m9s\u001b[0m 35ms/step - accuracy: 0.9571 - loss: 0.1230 - val_accuracy: 0.6375 - val_loss: 5.3243\n",
            "Epoch 69/100\n",
            "\u001b[1m251/251\u001b[0m \u001b[32m━━━━━━━━━━━━━━━━━━━━\u001b[0m\u001b[37m\u001b[0m \u001b[1m9s\u001b[0m 35ms/step - accuracy: 0.9620 - loss: 0.1189 - val_accuracy: 0.6574 - val_loss: 5.5996\n",
            "Epoch 70/100\n",
            "\u001b[1m251/251\u001b[0m \u001b[32m━━━━━━━━━━━━━━━━━━━━\u001b[0m\u001b[37m\u001b[0m \u001b[1m9s\u001b[0m 36ms/step - accuracy: 0.9346 - loss: 0.1451 - val_accuracy: 0.6335 - val_loss: 5.5938\n",
            "Epoch 71/100\n",
            "\u001b[1m251/251\u001b[0m \u001b[32m━━━━━━━━━━━━━━━━━━━━\u001b[0m\u001b[37m\u001b[0m \u001b[1m9s\u001b[0m 35ms/step - accuracy: 0.9429 - loss: 0.1377 - val_accuracy: 0.6175 - val_loss: 4.6545\n",
            "Epoch 72/100\n",
            "\u001b[1m251/251\u001b[0m \u001b[32m━━━━━━━━━━━━━━━━━━━━\u001b[0m\u001b[37m\u001b[0m \u001b[1m10s\u001b[0m 39ms/step - accuracy: 0.9395 - loss: 0.1629 - val_accuracy: 0.6255 - val_loss: 5.6099\n",
            "Epoch 73/100\n",
            "\u001b[1m251/251\u001b[0m \u001b[32m━━━━━━━━━━━━━━━━━━━━\u001b[0m\u001b[37m\u001b[0m \u001b[1m9s\u001b[0m 36ms/step - accuracy: 0.9617 - loss: 0.1270 - val_accuracy: 0.6135 - val_loss: 6.2894\n",
            "Epoch 74/100\n",
            "\u001b[1m251/251\u001b[0m \u001b[32m━━━━━━━━━━━━━━━━━━━━\u001b[0m\u001b[37m\u001b[0m \u001b[1m9s\u001b[0m 35ms/step - accuracy: 0.9352 - loss: 0.1615 - val_accuracy: 0.6375 - val_loss: 5.2620\n",
            "Epoch 75/100\n",
            "\u001b[1m251/251\u001b[0m \u001b[32m━━━━━━━━━━━━━━━━━━━━\u001b[0m\u001b[37m\u001b[0m \u001b[1m9s\u001b[0m 36ms/step - accuracy: 0.9538 - loss: 0.1465 - val_accuracy: 0.6375 - val_loss: 6.2965\n",
            "Epoch 76/100\n",
            "\u001b[1m251/251\u001b[0m \u001b[32m━━━━━━━━━━━━━━━━━━━━\u001b[0m\u001b[37m\u001b[0m \u001b[1m9s\u001b[0m 35ms/step - accuracy: 0.9439 - loss: 0.1378 - val_accuracy: 0.6534 - val_loss: 5.8863\n",
            "Epoch 77/100\n",
            "\u001b[1m251/251\u001b[0m \u001b[32m━━━━━━━━━━━━━━━━━━━━\u001b[0m\u001b[37m\u001b[0m \u001b[1m9s\u001b[0m 35ms/step - accuracy: 0.9384 - loss: 0.1635 - val_accuracy: 0.6255 - val_loss: 5.8013\n",
            "Epoch 78/100\n",
            "\u001b[1m251/251\u001b[0m \u001b[32m━━━━━━━━━━━━━━━━━━━━\u001b[0m\u001b[37m\u001b[0m \u001b[1m9s\u001b[0m 35ms/step - accuracy: 0.9561 - loss: 0.1162 - val_accuracy: 0.6375 - val_loss: 5.7977\n",
            "Epoch 79/100\n",
            "\u001b[1m251/251\u001b[0m \u001b[32m━━━━━━━━━━━━━━━━━━━━\u001b[0m\u001b[37m\u001b[0m \u001b[1m9s\u001b[0m 35ms/step - accuracy: 0.9495 - loss: 0.1207 - val_accuracy: 0.6175 - val_loss: 5.9183\n",
            "Epoch 80/100\n",
            "\u001b[1m251/251\u001b[0m \u001b[32m━━━━━━━━━━━━━━━━━━━━\u001b[0m\u001b[37m\u001b[0m \u001b[1m9s\u001b[0m 35ms/step - accuracy: 0.9615 - loss: 0.1166 - val_accuracy: 0.6175 - val_loss: 5.5666\n",
            "Epoch 81/100\n",
            "\u001b[1m251/251\u001b[0m \u001b[32m━━━━━━━━━━━━━━━━━━━━\u001b[0m\u001b[37m\u001b[0m \u001b[1m9s\u001b[0m 35ms/step - accuracy: 0.9668 - loss: 0.0942 - val_accuracy: 0.6135 - val_loss: 6.2386\n",
            "Epoch 82/100\n",
            "\u001b[1m251/251\u001b[0m \u001b[32m━━━━━━━━━━━━━━━━━━━━\u001b[0m\u001b[37m\u001b[0m \u001b[1m9s\u001b[0m 35ms/step - accuracy: 0.9705 - loss: 0.0819 - val_accuracy: 0.5896 - val_loss: 6.2366\n",
            "Epoch 83/100\n",
            "\u001b[1m251/251\u001b[0m \u001b[32m━━━━━━━━━━━━━━━━━━━━\u001b[0m\u001b[37m\u001b[0m \u001b[1m10s\u001b[0m 39ms/step - accuracy: 0.9617 - loss: 0.0956 - val_accuracy: 0.6215 - val_loss: 5.7596\n",
            "Epoch 84/100\n",
            "\u001b[1m251/251\u001b[0m \u001b[32m━━━━━━━━━━━━━━━━━━━━\u001b[0m\u001b[37m\u001b[0m \u001b[1m9s\u001b[0m 35ms/step - accuracy: 0.9613 - loss: 0.1169 - val_accuracy: 0.6096 - val_loss: 5.6208\n",
            "Epoch 85/100\n",
            "\u001b[1m251/251\u001b[0m \u001b[32m━━━━━━━━━━━━━━━━━━━━\u001b[0m\u001b[37m\u001b[0m \u001b[1m9s\u001b[0m 35ms/step - accuracy: 0.9814 - loss: 0.0586 - val_accuracy: 0.6215 - val_loss: 5.5828\n",
            "Epoch 86/100\n",
            "\u001b[1m251/251\u001b[0m \u001b[32m━━━━━━━━━━━━━━━━━━━━\u001b[0m\u001b[37m\u001b[0m \u001b[1m9s\u001b[0m 35ms/step - accuracy: 0.9610 - loss: 0.1074 - val_accuracy: 0.6056 - val_loss: 5.2393\n",
            "Epoch 87/100\n",
            "\u001b[1m251/251\u001b[0m \u001b[32m━━━━━━━━━━━━━━━━━━━━\u001b[0m\u001b[37m\u001b[0m \u001b[1m9s\u001b[0m 35ms/step - accuracy: 0.9545 - loss: 0.1225 - val_accuracy: 0.6295 - val_loss: 6.6181\n",
            "Epoch 88/100\n",
            "\u001b[1m251/251\u001b[0m \u001b[32m━━━━━━━━━━━━━━━━━━━━\u001b[0m\u001b[37m\u001b[0m \u001b[1m9s\u001b[0m 35ms/step - accuracy: 0.9661 - loss: 0.0996 - val_accuracy: 0.6335 - val_loss: 6.2736\n",
            "Epoch 89/100\n",
            "\u001b[1m251/251\u001b[0m \u001b[32m━━━━━━━━━━━━━━━━━━━━\u001b[0m\u001b[37m\u001b[0m \u001b[1m9s\u001b[0m 35ms/step - accuracy: 0.9638 - loss: 0.0940 - val_accuracy: 0.6215 - val_loss: 5.9088\n",
            "Epoch 90/100\n",
            "\u001b[1m251/251\u001b[0m \u001b[32m━━━━━━━━━━━━━━━━━━━━\u001b[0m\u001b[37m\u001b[0m \u001b[1m9s\u001b[0m 35ms/step - accuracy: 0.9721 - loss: 0.0731 - val_accuracy: 0.6335 - val_loss: 6.0709\n",
            "Epoch 91/100\n",
            "\u001b[1m251/251\u001b[0m \u001b[32m━━━━━━━━━━━━━━━━━━━━\u001b[0m\u001b[37m\u001b[0m \u001b[1m9s\u001b[0m 35ms/step - accuracy: 0.9662 - loss: 0.1022 - val_accuracy: 0.6375 - val_loss: 6.2472\n",
            "Epoch 92/100\n",
            "\u001b[1m251/251\u001b[0m \u001b[32m━━━━━━━━━━━━━━━━━━━━\u001b[0m\u001b[37m\u001b[0m \u001b[1m9s\u001b[0m 35ms/step - accuracy: 0.9614 - loss: 0.1162 - val_accuracy: 0.6056 - val_loss: 6.1284\n",
            "Epoch 93/100\n",
            "\u001b[1m251/251\u001b[0m \u001b[32m━━━━━━━━━━━━━━━━━━━━\u001b[0m\u001b[37m\u001b[0m \u001b[1m10s\u001b[0m 39ms/step - accuracy: 0.9587 - loss: 0.0933 - val_accuracy: 0.6135 - val_loss: 5.9139\n",
            "Epoch 94/100\n",
            "\u001b[1m251/251\u001b[0m \u001b[32m━━━━━━━━━━━━━━━━━━━━\u001b[0m\u001b[37m\u001b[0m \u001b[1m10s\u001b[0m 35ms/step - accuracy: 0.9640 - loss: 0.0893 - val_accuracy: 0.6255 - val_loss: 6.8159\n",
            "Epoch 95/100\n",
            "\u001b[1m251/251\u001b[0m \u001b[32m━━━━━━━━━━━━━━━━━━━━\u001b[0m\u001b[37m\u001b[0m \u001b[1m10s\u001b[0m 36ms/step - accuracy: 0.9577 - loss: 0.0932 - val_accuracy: 0.6255 - val_loss: 6.0670\n",
            "Epoch 96/100\n",
            "\u001b[1m251/251\u001b[0m \u001b[32m━━━━━━━━━━━━━━━━━━━━\u001b[0m\u001b[37m\u001b[0m \u001b[1m9s\u001b[0m 36ms/step - accuracy: 0.9649 - loss: 0.0938 - val_accuracy: 0.6135 - val_loss: 7.0727\n",
            "Epoch 97/100\n",
            "\u001b[1m251/251\u001b[0m \u001b[32m━━━━━━━━━━━━━━━━━━━━\u001b[0m\u001b[37m\u001b[0m \u001b[1m9s\u001b[0m 35ms/step - accuracy: 0.9706 - loss: 0.0788 - val_accuracy: 0.6414 - val_loss: 5.8841\n",
            "Epoch 98/100\n",
            "\u001b[1m251/251\u001b[0m \u001b[32m━━━━━━━━━━━━━━━━━━━━\u001b[0m\u001b[37m\u001b[0m \u001b[1m9s\u001b[0m 35ms/step - accuracy: 0.9518 - loss: 0.1374 - val_accuracy: 0.6215 - val_loss: 6.4302\n",
            "Epoch 99/100\n",
            "\u001b[1m251/251\u001b[0m \u001b[32m━━━━━━━━━━━━━━━━━━━━\u001b[0m\u001b[37m\u001b[0m \u001b[1m9s\u001b[0m 35ms/step - accuracy: 0.9786 - loss: 0.0588 - val_accuracy: 0.6175 - val_loss: 5.5255\n",
            "Epoch 100/100\n",
            "\u001b[1m251/251\u001b[0m \u001b[32m━━━━━━━━━━━━━━━━━━━━\u001b[0m\u001b[37m\u001b[0m \u001b[1m9s\u001b[0m 34ms/step - accuracy: 0.9759 - loss: 0.0851 - val_accuracy: 0.6175 - val_loss: 6.3125\n",
            "\u001b[1m63/63\u001b[0m \u001b[32m━━━━━━━━━━━━━━━━━━━━\u001b[0m\u001b[37m\u001b[0m \u001b[1m2s\u001b[0m 23ms/step - accuracy: 0.6287 - loss: 4.5342\n",
            "Test Accuracy: 61.75%\n"
          ]
        }
      ]
    },
    {
      "cell_type": "code",
      "source": [
        "from tensorflow.keras.callbacks import EarlyStopping\n",
        "\n",
        "early_stopping = EarlyStopping(monitor='val_loss', patience=5, restore_best_weights=True)\n",
        "\n",
        "cnn_model.fit(X_train, y_train, epochs=100, batch_size=32, validation_data=(X_test, y_test), callbacks=[early_stopping])\n"
      ],
      "metadata": {
        "colab": {
          "base_uri": "https://localhost:8080/"
        },
        "id": "Vnnuuk7LrHjM",
        "outputId": "a6834e1a-8ce8-4183-85d1-43b858572ef5"
      },
      "execution_count": 90,
      "outputs": [
        {
          "output_type": "stream",
          "name": "stdout",
          "text": [
            "Epoch 1/100\n",
            "\u001b[1m251/251\u001b[0m \u001b[32m━━━━━━━━━━━━━━━━━━━━\u001b[0m\u001b[37m\u001b[0m \u001b[1m10s\u001b[0m 39ms/step - accuracy: 0.9579 - loss: 0.1103 - val_accuracy: 0.6175 - val_loss: 6.1753\n",
            "Epoch 2/100\n",
            "\u001b[1m251/251\u001b[0m \u001b[32m━━━━━━━━━━━━━━━━━━━━\u001b[0m\u001b[37m\u001b[0m \u001b[1m10s\u001b[0m 37ms/step - accuracy: 0.9668 - loss: 0.0911 - val_accuracy: 0.6175 - val_loss: 7.2114\n",
            "Epoch 3/100\n",
            "\u001b[1m251/251\u001b[0m \u001b[32m━━━━━━━━━━━━━━━━━━━━\u001b[0m\u001b[37m\u001b[0m \u001b[1m10s\u001b[0m 38ms/step - accuracy: 0.9696 - loss: 0.0822 - val_accuracy: 0.6255 - val_loss: 6.2593\n",
            "Epoch 4/100\n",
            "\u001b[1m251/251\u001b[0m \u001b[32m━━━━━━━━━━━━━━━━━━━━\u001b[0m\u001b[37m\u001b[0m \u001b[1m10s\u001b[0m 38ms/step - accuracy: 0.9600 - loss: 0.0879 - val_accuracy: 0.6494 - val_loss: 7.3791\n",
            "Epoch 5/100\n",
            "\u001b[1m251/251\u001b[0m \u001b[32m━━━━━━━━━━━━━━━━━━━━\u001b[0m\u001b[37m\u001b[0m \u001b[1m10s\u001b[0m 35ms/step - accuracy: 0.9585 - loss: 0.1283 - val_accuracy: 0.6016 - val_loss: 6.4844\n",
            "Epoch 6/100\n",
            "\u001b[1m251/251\u001b[0m \u001b[32m━━━━━━━━━━━━━━━━━━━━\u001b[0m\u001b[37m\u001b[0m \u001b[1m10s\u001b[0m 36ms/step - accuracy: 0.9766 - loss: 0.0745 - val_accuracy: 0.6295 - val_loss: 6.3555\n"
          ]
        },
        {
          "output_type": "execute_result",
          "data": {
            "text/plain": [
              "<keras.src.callbacks.history.History at 0x7a6830b46a50>"
            ]
          },
          "metadata": {},
          "execution_count": 90
        }
      ]
    },
    {
      "cell_type": "code",
      "source": [
        "from tensorflow.keras.callbacks import ReduceLROnPlateau\n",
        "\n",
        "lr_scheduler = ReduceLROnPlateau(monitor='val_loss', factor=0.5, patience=3, min_lr=1e-6)\n",
        "\n",
        "cnn_model.fit(X_train, y_train, epochs=100, batch_size=32, validation_data=(X_test, y_test), callbacks=[lr_scheduler])\n"
      ],
      "metadata": {
        "id": "WGX_i170-AyS",
        "outputId": "bc7bd396-219e-42fc-e9de-ca6eee05f88b",
        "colab": {
          "base_uri": "https://localhost:8080/"
        }
      },
      "execution_count": 91,
      "outputs": [
        {
          "output_type": "stream",
          "name": "stdout",
          "text": [
            "Epoch 1/100\n",
            "\u001b[1m251/251\u001b[0m \u001b[32m━━━━━━━━━━━━━━━━━━━━\u001b[0m\u001b[37m\u001b[0m \u001b[1m10s\u001b[0m 38ms/step - accuracy: 0.9527 - loss: 0.1206 - val_accuracy: 0.6096 - val_loss: 5.8894 - learning_rate: 0.0010\n",
            "Epoch 2/100\n",
            "\u001b[1m251/251\u001b[0m \u001b[32m━━━━━━━━━━━━━━━━━━━━\u001b[0m\u001b[37m\u001b[0m \u001b[1m10s\u001b[0m 36ms/step - accuracy: 0.9715 - loss: 0.0980 - val_accuracy: 0.6096 - val_loss: 6.6522 - learning_rate: 0.0010\n",
            "Epoch 3/100\n",
            "\u001b[1m251/251\u001b[0m \u001b[32m━━━━━━━━━━━━━━━━━━━━\u001b[0m\u001b[37m\u001b[0m \u001b[1m9s\u001b[0m 35ms/step - accuracy: 0.9686 - loss: 0.0770 - val_accuracy: 0.5857 - val_loss: 5.9376 - learning_rate: 0.0010\n",
            "Epoch 4/100\n",
            "\u001b[1m251/251\u001b[0m \u001b[32m━━━━━━━━━━━━━━━━━━━━\u001b[0m\u001b[37m\u001b[0m \u001b[1m9s\u001b[0m 35ms/step - accuracy: 0.9812 - loss: 0.0671 - val_accuracy: 0.6215 - val_loss: 5.8252 - learning_rate: 0.0010\n",
            "Epoch 5/100\n",
            "\u001b[1m251/251\u001b[0m \u001b[32m━━━━━━━━━━━━━━━━━━━━\u001b[0m\u001b[37m\u001b[0m \u001b[1m9s\u001b[0m 36ms/step - accuracy: 0.9497 - loss: 0.1662 - val_accuracy: 0.6016 - val_loss: 7.3730 - learning_rate: 0.0010\n",
            "Epoch 6/100\n",
            "\u001b[1m251/251\u001b[0m \u001b[32m━━━━━━━━━━━━━━━━━━━━\u001b[0m\u001b[37m\u001b[0m \u001b[1m9s\u001b[0m 35ms/step - accuracy: 0.9680 - loss: 0.0747 - val_accuracy: 0.6016 - val_loss: 6.1147 - learning_rate: 0.0010\n",
            "Epoch 7/100\n",
            "\u001b[1m251/251\u001b[0m \u001b[32m━━━━━━━━━━━━━━━━━━━━\u001b[0m\u001b[37m\u001b[0m \u001b[1m9s\u001b[0m 36ms/step - accuracy: 0.9667 - loss: 0.0725 - val_accuracy: 0.6096 - val_loss: 6.6893 - learning_rate: 0.0010\n",
            "Epoch 8/100\n",
            "\u001b[1m251/251\u001b[0m \u001b[32m━━━━━━━━━━━━━━━━━━━━\u001b[0m\u001b[37m\u001b[0m \u001b[1m9s\u001b[0m 36ms/step - accuracy: 0.9844 - loss: 0.0634 - val_accuracy: 0.6335 - val_loss: 6.7680 - learning_rate: 5.0000e-04\n",
            "Epoch 9/100\n",
            "\u001b[1m251/251\u001b[0m \u001b[32m━━━━━━━━━━━━━━━━━━━━\u001b[0m\u001b[37m\u001b[0m \u001b[1m10s\u001b[0m 36ms/step - accuracy: 0.9806 - loss: 0.0561 - val_accuracy: 0.6175 - val_loss: 7.0172 - learning_rate: 5.0000e-04\n",
            "Epoch 10/100\n",
            "\u001b[1m251/251\u001b[0m \u001b[32m━━━━━━━━━━━━━━━━━━━━\u001b[0m\u001b[37m\u001b[0m \u001b[1m10s\u001b[0m 38ms/step - accuracy: 0.9828 - loss: 0.0594 - val_accuracy: 0.6335 - val_loss: 7.1276 - learning_rate: 5.0000e-04\n",
            "Epoch 11/100\n",
            "\u001b[1m251/251\u001b[0m \u001b[32m━━━━━━━━━━━━━━━━━━━━\u001b[0m\u001b[37m\u001b[0m \u001b[1m9s\u001b[0m 36ms/step - accuracy: 0.9927 - loss: 0.0287 - val_accuracy: 0.6175 - val_loss: 7.8976 - learning_rate: 2.5000e-04\n",
            "Epoch 12/100\n",
            "\u001b[1m251/251\u001b[0m \u001b[32m━━━━━━━━━━━━━━━━━━━━\u001b[0m\u001b[37m\u001b[0m \u001b[1m9s\u001b[0m 36ms/step - accuracy: 0.9745 - loss: 0.0872 - val_accuracy: 0.6335 - val_loss: 7.6891 - learning_rate: 2.5000e-04\n",
            "Epoch 13/100\n",
            "\u001b[1m251/251\u001b[0m \u001b[32m━━━━━━━━━━━━━━━━━━━━\u001b[0m\u001b[37m\u001b[0m \u001b[1m9s\u001b[0m 35ms/step - accuracy: 0.9930 - loss: 0.0224 - val_accuracy: 0.6295 - val_loss: 8.0251 - learning_rate: 2.5000e-04\n",
            "Epoch 14/100\n",
            "\u001b[1m251/251\u001b[0m \u001b[32m━━━━━━━━━━━━━━━━━━━━\u001b[0m\u001b[37m\u001b[0m \u001b[1m9s\u001b[0m 35ms/step - accuracy: 0.9923 - loss: 0.0247 - val_accuracy: 0.6255 - val_loss: 8.1326 - learning_rate: 1.2500e-04\n",
            "Epoch 15/100\n",
            "\u001b[1m251/251\u001b[0m \u001b[32m━━━━━━━━━━━━━━━━━━━━\u001b[0m\u001b[37m\u001b[0m \u001b[1m9s\u001b[0m 35ms/step - accuracy: 0.9820 - loss: 0.0540 - val_accuracy: 0.6295 - val_loss: 8.4374 - learning_rate: 1.2500e-04\n",
            "Epoch 16/100\n",
            "\u001b[1m251/251\u001b[0m \u001b[32m━━━━━━━━━━━━━━━━━━━━\u001b[0m\u001b[37m\u001b[0m \u001b[1m9s\u001b[0m 34ms/step - accuracy: 0.9835 - loss: 0.0350 - val_accuracy: 0.6335 - val_loss: 8.3003 - learning_rate: 1.2500e-04\n",
            "Epoch 17/100\n",
            "\u001b[1m251/251\u001b[0m \u001b[32m━━━━━━━━━━━━━━━━━━━━\u001b[0m\u001b[37m\u001b[0m \u001b[1m9s\u001b[0m 35ms/step - accuracy: 0.9876 - loss: 0.0471 - val_accuracy: 0.6335 - val_loss: 8.5197 - learning_rate: 6.2500e-05\n",
            "Epoch 18/100\n",
            "\u001b[1m251/251\u001b[0m \u001b[32m━━━━━━━━━━━━━━━━━━━━\u001b[0m\u001b[37m\u001b[0m \u001b[1m9s\u001b[0m 34ms/step - accuracy: 0.9916 - loss: 0.0283 - val_accuracy: 0.6335 - val_loss: 8.6716 - learning_rate: 6.2500e-05\n",
            "Epoch 19/100\n",
            "\u001b[1m251/251\u001b[0m \u001b[32m━━━━━━━━━━━━━━━━━━━━\u001b[0m\u001b[37m\u001b[0m \u001b[1m9s\u001b[0m 35ms/step - accuracy: 0.9787 - loss: 0.0456 - val_accuracy: 0.6375 - val_loss: 8.5774 - learning_rate: 6.2500e-05\n",
            "Epoch 20/100\n",
            "\u001b[1m251/251\u001b[0m \u001b[32m━━━━━━━━━━━━━━━━━━━━\u001b[0m\u001b[37m\u001b[0m \u001b[1m10s\u001b[0m 39ms/step - accuracy: 0.9930 - loss: 0.0528 - val_accuracy: 0.6335 - val_loss: 8.5487 - learning_rate: 3.1250e-05\n",
            "Epoch 21/100\n",
            "\u001b[1m251/251\u001b[0m \u001b[32m━━━━━━━━━━━━━━━━━━━━\u001b[0m\u001b[37m\u001b[0m \u001b[1m10s\u001b[0m 36ms/step - accuracy: 0.9962 - loss: 0.0238 - val_accuracy: 0.6375 - val_loss: 8.5981 - learning_rate: 3.1250e-05\n",
            "Epoch 22/100\n",
            "\u001b[1m251/251\u001b[0m \u001b[32m━━━━━━━━━━━━━━━━━━━━\u001b[0m\u001b[37m\u001b[0m \u001b[1m9s\u001b[0m 35ms/step - accuracy: 0.9940 - loss: 0.0259 - val_accuracy: 0.6295 - val_loss: 8.4099 - learning_rate: 3.1250e-05\n",
            "Epoch 23/100\n",
            "\u001b[1m251/251\u001b[0m \u001b[32m━━━━━━━━━━━━━━━━━━━━\u001b[0m\u001b[37m\u001b[0m \u001b[1m10s\u001b[0m 36ms/step - accuracy: 0.9937 - loss: 0.0246 - val_accuracy: 0.6335 - val_loss: 8.5577 - learning_rate: 1.5625e-05\n",
            "Epoch 24/100\n",
            "\u001b[1m251/251\u001b[0m \u001b[32m━━━━━━━━━━━━━━━━━━━━\u001b[0m\u001b[37m\u001b[0m \u001b[1m9s\u001b[0m 35ms/step - accuracy: 0.9888 - loss: 0.0350 - val_accuracy: 0.6375 - val_loss: 8.5861 - learning_rate: 1.5625e-05\n",
            "Epoch 25/100\n",
            "\u001b[1m251/251\u001b[0m \u001b[32m━━━━━━━━━━━━━━━━━━━━\u001b[0m\u001b[37m\u001b[0m \u001b[1m10s\u001b[0m 36ms/step - accuracy: 0.9821 - loss: 0.0497 - val_accuracy: 0.6375 - val_loss: 8.5682 - learning_rate: 1.5625e-05\n",
            "Epoch 26/100\n",
            "\u001b[1m251/251\u001b[0m \u001b[32m━━━━━━━━━━━━━━━━━━━━\u001b[0m\u001b[37m\u001b[0m \u001b[1m9s\u001b[0m 36ms/step - accuracy: 0.9876 - loss: 0.0493 - val_accuracy: 0.6335 - val_loss: 8.6318 - learning_rate: 7.8125e-06\n",
            "Epoch 27/100\n",
            "\u001b[1m251/251\u001b[0m \u001b[32m━━━━━━━━━━━━━━━━━━━━\u001b[0m\u001b[37m\u001b[0m \u001b[1m9s\u001b[0m 36ms/step - accuracy: 0.9920 - loss: 0.0274 - val_accuracy: 0.6375 - val_loss: 8.6304 - learning_rate: 7.8125e-06\n",
            "Epoch 28/100\n",
            "\u001b[1m251/251\u001b[0m \u001b[32m━━━━━━━━━━━━━━━━━━━━\u001b[0m\u001b[37m\u001b[0m \u001b[1m9s\u001b[0m 36ms/step - accuracy: 0.9825 - loss: 0.0363 - val_accuracy: 0.6295 - val_loss: 8.6674 - learning_rate: 7.8125e-06\n",
            "Epoch 29/100\n",
            "\u001b[1m251/251\u001b[0m \u001b[32m━━━━━━━━━━━━━━━━━━━━\u001b[0m\u001b[37m\u001b[0m \u001b[1m9s\u001b[0m 36ms/step - accuracy: 0.9946 - loss: 0.0167 - val_accuracy: 0.6295 - val_loss: 8.6489 - learning_rate: 3.9063e-06\n",
            "Epoch 30/100\n",
            "\u001b[1m251/251\u001b[0m \u001b[32m━━━━━━━━━━━━━━━━━━━━\u001b[0m\u001b[37m\u001b[0m \u001b[1m10s\u001b[0m 39ms/step - accuracy: 0.9923 - loss: 0.0243 - val_accuracy: 0.6335 - val_loss: 8.6310 - learning_rate: 3.9063e-06\n",
            "Epoch 31/100\n",
            "\u001b[1m251/251\u001b[0m \u001b[32m━━━━━━━━━━━━━━━━━━━━\u001b[0m\u001b[37m\u001b[0m \u001b[1m10s\u001b[0m 36ms/step - accuracy: 0.9929 - loss: 0.0246 - val_accuracy: 0.6335 - val_loss: 8.6386 - learning_rate: 3.9063e-06\n",
            "Epoch 32/100\n",
            "\u001b[1m251/251\u001b[0m \u001b[32m━━━━━━━━━━━━━━━━━━━━\u001b[0m\u001b[37m\u001b[0m \u001b[1m9s\u001b[0m 36ms/step - accuracy: 0.9968 - loss: 0.0196 - val_accuracy: 0.6335 - val_loss: 8.6277 - learning_rate: 1.9531e-06\n",
            "Epoch 33/100\n",
            "\u001b[1m251/251\u001b[0m \u001b[32m━━━━━━━━━━━━━━━━━━━━\u001b[0m\u001b[37m\u001b[0m \u001b[1m9s\u001b[0m 36ms/step - accuracy: 0.9912 - loss: 0.0278 - val_accuracy: 0.6295 - val_loss: 8.6693 - learning_rate: 1.9531e-06\n",
            "Epoch 34/100\n",
            "\u001b[1m251/251\u001b[0m \u001b[32m━━━━━━━━━━━━━━━━━━━━\u001b[0m\u001b[37m\u001b[0m \u001b[1m9s\u001b[0m 36ms/step - accuracy: 0.9892 - loss: 0.0279 - val_accuracy: 0.6295 - val_loss: 8.6600 - learning_rate: 1.9531e-06\n",
            "Epoch 35/100\n",
            "\u001b[1m251/251\u001b[0m \u001b[32m━━━━━━━━━━━━━━━━━━━━\u001b[0m\u001b[37m\u001b[0m \u001b[1m9s\u001b[0m 36ms/step - accuracy: 0.9907 - loss: 0.0318 - val_accuracy: 0.6295 - val_loss: 8.6644 - learning_rate: 1.0000e-06\n",
            "Epoch 36/100\n",
            "\u001b[1m251/251\u001b[0m \u001b[32m━━━━━━━━━━━━━━━━━━━━\u001b[0m\u001b[37m\u001b[0m \u001b[1m9s\u001b[0m 35ms/step - accuracy: 0.9835 - loss: 0.0434 - val_accuracy: 0.6295 - val_loss: 8.6525 - learning_rate: 1.0000e-06\n",
            "Epoch 37/100\n",
            "\u001b[1m251/251\u001b[0m \u001b[32m━━━━━━━━━━━━━━━━━━━━\u001b[0m\u001b[37m\u001b[0m \u001b[1m9s\u001b[0m 35ms/step - accuracy: 0.9931 - loss: 0.0271 - val_accuracy: 0.6295 - val_loss: 8.6492 - learning_rate: 1.0000e-06\n",
            "Epoch 38/100\n",
            "\u001b[1m251/251\u001b[0m \u001b[32m━━━━━━━━━━━━━━━━━━━━\u001b[0m\u001b[37m\u001b[0m \u001b[1m9s\u001b[0m 35ms/step - accuracy: 0.9940 - loss: 0.0297 - val_accuracy: 0.6295 - val_loss: 8.6579 - learning_rate: 1.0000e-06\n",
            "Epoch 39/100\n",
            "\u001b[1m251/251\u001b[0m \u001b[32m━━━━━━━━━━━━━━━━━━━━\u001b[0m\u001b[37m\u001b[0m \u001b[1m9s\u001b[0m 35ms/step - accuracy: 0.9872 - loss: 0.0399 - val_accuracy: 0.6295 - val_loss: 8.6744 - learning_rate: 1.0000e-06\n",
            "Epoch 40/100\n",
            "\u001b[1m251/251\u001b[0m \u001b[32m━━━━━━━━━━━━━━━━━━━━\u001b[0m\u001b[37m\u001b[0m \u001b[1m9s\u001b[0m 36ms/step - accuracy: 0.9832 - loss: 0.0384 - val_accuracy: 0.6295 - val_loss: 8.6784 - learning_rate: 1.0000e-06\n",
            "Epoch 41/100\n",
            "\u001b[1m251/251\u001b[0m \u001b[32m━━━━━━━━━━━━━━━━━━━━\u001b[0m\u001b[37m\u001b[0m \u001b[1m9s\u001b[0m 35ms/step - accuracy: 0.9878 - loss: 0.0447 - val_accuracy: 0.6295 - val_loss: 8.6801 - learning_rate: 1.0000e-06\n",
            "Epoch 42/100\n",
            "\u001b[1m251/251\u001b[0m \u001b[32m━━━━━━━━━━━━━━━━━━━━\u001b[0m\u001b[37m\u001b[0m \u001b[1m9s\u001b[0m 35ms/step - accuracy: 0.9844 - loss: 0.0523 - val_accuracy: 0.6295 - val_loss: 8.6638 - learning_rate: 1.0000e-06\n",
            "Epoch 43/100\n",
            "\u001b[1m251/251\u001b[0m \u001b[32m━━━━━━━━━━━━━━━━━━━━\u001b[0m\u001b[37m\u001b[0m \u001b[1m10s\u001b[0m 35ms/step - accuracy: 0.9862 - loss: 0.0427 - val_accuracy: 0.6295 - val_loss: 8.6635 - learning_rate: 1.0000e-06\n",
            "Epoch 44/100\n",
            "\u001b[1m251/251\u001b[0m \u001b[32m━━━━━━━━━━━━━━━━━━━━\u001b[0m\u001b[37m\u001b[0m \u001b[1m9s\u001b[0m 35ms/step - accuracy: 0.9912 - loss: 0.0276 - val_accuracy: 0.6295 - val_loss: 8.6819 - learning_rate: 1.0000e-06\n",
            "Epoch 45/100\n",
            "\u001b[1m251/251\u001b[0m \u001b[32m━━━━━━━━━━━━━━━━━━━━\u001b[0m\u001b[37m\u001b[0m \u001b[1m9s\u001b[0m 35ms/step - accuracy: 0.9984 - loss: 0.0139 - val_accuracy: 0.6335 - val_loss: 8.6817 - learning_rate: 1.0000e-06\n",
            "Epoch 46/100\n",
            "\u001b[1m251/251\u001b[0m \u001b[32m━━━━━━━━━━━━━━━━━━━━\u001b[0m\u001b[37m\u001b[0m \u001b[1m10s\u001b[0m 37ms/step - accuracy: 0.9871 - loss: 0.0366 - val_accuracy: 0.6295 - val_loss: 8.6816 - learning_rate: 1.0000e-06\n",
            "Epoch 47/100\n",
            "\u001b[1m251/251\u001b[0m \u001b[32m━━━━━━━━━━━━━━━━━━━━\u001b[0m\u001b[37m\u001b[0m \u001b[1m9s\u001b[0m 36ms/step - accuracy: 0.9868 - loss: 0.0397 - val_accuracy: 0.6335 - val_loss: 8.6879 - learning_rate: 1.0000e-06\n",
            "Epoch 48/100\n",
            "\u001b[1m251/251\u001b[0m \u001b[32m━━━━━━━━━━━━━━━━━━━━\u001b[0m\u001b[37m\u001b[0m \u001b[1m9s\u001b[0m 36ms/step - accuracy: 0.9800 - loss: 0.0448 - val_accuracy: 0.6295 - val_loss: 8.6893 - learning_rate: 1.0000e-06\n",
            "Epoch 49/100\n",
            "\u001b[1m251/251\u001b[0m \u001b[32m━━━━━━━━━━━━━━━━━━━━\u001b[0m\u001b[37m\u001b[0m \u001b[1m9s\u001b[0m 36ms/step - accuracy: 0.9930 - loss: 0.0257 - val_accuracy: 0.6295 - val_loss: 8.6750 - learning_rate: 1.0000e-06\n",
            "Epoch 50/100\n",
            "\u001b[1m251/251\u001b[0m \u001b[32m━━━━━━━━━━━━━━━━━━━━\u001b[0m\u001b[37m\u001b[0m \u001b[1m10s\u001b[0m 37ms/step - accuracy: 0.9941 - loss: 0.0196 - val_accuracy: 0.6295 - val_loss: 8.6816 - learning_rate: 1.0000e-06\n",
            "Epoch 51/100\n",
            "\u001b[1m251/251\u001b[0m \u001b[32m━━━━━━━━━━━━━━━━━━━━\u001b[0m\u001b[37m\u001b[0m \u001b[1m9s\u001b[0m 35ms/step - accuracy: 0.9891 - loss: 0.0370 - val_accuracy: 0.6295 - val_loss: 8.6741 - learning_rate: 1.0000e-06\n",
            "Epoch 52/100\n",
            "\u001b[1m251/251\u001b[0m \u001b[32m━━━━━━━━━━━━━━━━━━━━\u001b[0m\u001b[37m\u001b[0m \u001b[1m9s\u001b[0m 35ms/step - accuracy: 0.9953 - loss: 0.0161 - val_accuracy: 0.6335 - val_loss: 8.6586 - learning_rate: 1.0000e-06\n",
            "Epoch 53/100\n",
            "\u001b[1m251/251\u001b[0m \u001b[32m━━━━━━━━━━━━━━━━━━━━\u001b[0m\u001b[37m\u001b[0m \u001b[1m9s\u001b[0m 35ms/step - accuracy: 0.9850 - loss: 0.0409 - val_accuracy: 0.6295 - val_loss: 8.6707 - learning_rate: 1.0000e-06\n",
            "Epoch 54/100\n",
            "\u001b[1m251/251\u001b[0m \u001b[32m━━━━━━━━━━━━━━━━━━━━\u001b[0m\u001b[37m\u001b[0m \u001b[1m10s\u001b[0m 36ms/step - accuracy: 0.9892 - loss: 0.0248 - val_accuracy: 0.6295 - val_loss: 8.6587 - learning_rate: 1.0000e-06\n",
            "Epoch 55/100\n",
            "\u001b[1m251/251\u001b[0m \u001b[32m━━━━━━━━━━━━━━━━━━━━\u001b[0m\u001b[37m\u001b[0m \u001b[1m9s\u001b[0m 36ms/step - accuracy: 0.9898 - loss: 0.0230 - val_accuracy: 0.6295 - val_loss: 8.6657 - learning_rate: 1.0000e-06\n",
            "Epoch 56/100\n",
            "\u001b[1m251/251\u001b[0m \u001b[32m━━━━━━━━━━━━━━━━━━━━\u001b[0m\u001b[37m\u001b[0m \u001b[1m9s\u001b[0m 35ms/step - accuracy: 0.9906 - loss: 0.0308 - val_accuracy: 0.6295 - val_loss: 8.6762 - learning_rate: 1.0000e-06\n",
            "Epoch 57/100\n",
            "\u001b[1m251/251\u001b[0m \u001b[32m━━━━━━━━━━━━━━━━━━━━\u001b[0m\u001b[37m\u001b[0m \u001b[1m9s\u001b[0m 36ms/step - accuracy: 0.9868 - loss: 0.0358 - val_accuracy: 0.6295 - val_loss: 8.6920 - learning_rate: 1.0000e-06\n",
            "Epoch 58/100\n",
            "\u001b[1m251/251\u001b[0m \u001b[32m━━━━━━━━━━━━━━━━━━━━\u001b[0m\u001b[37m\u001b[0m \u001b[1m9s\u001b[0m 35ms/step - accuracy: 0.9962 - loss: 0.0173 - val_accuracy: 0.6295 - val_loss: 8.6796 - learning_rate: 1.0000e-06\n",
            "Epoch 59/100\n",
            "\u001b[1m251/251\u001b[0m \u001b[32m━━━━━━━━━━━━━━━━━━━━\u001b[0m\u001b[37m\u001b[0m \u001b[1m9s\u001b[0m 35ms/step - accuracy: 0.9943 - loss: 0.0198 - val_accuracy: 0.6295 - val_loss: 8.6940 - learning_rate: 1.0000e-06\n",
            "Epoch 60/100\n",
            "\u001b[1m251/251\u001b[0m \u001b[32m━━━━━━━━━━━━━━━━━━━━\u001b[0m\u001b[37m\u001b[0m \u001b[1m9s\u001b[0m 36ms/step - accuracy: 0.9969 - loss: 0.0236 - val_accuracy: 0.6295 - val_loss: 8.6976 - learning_rate: 1.0000e-06\n",
            "Epoch 61/100\n",
            "\u001b[1m251/251\u001b[0m \u001b[32m━━━━━━━━━━━━━━━━━━━━\u001b[0m\u001b[37m\u001b[0m \u001b[1m9s\u001b[0m 35ms/step - accuracy: 0.9920 - loss: 0.0275 - val_accuracy: 0.6335 - val_loss: 8.6889 - learning_rate: 1.0000e-06\n",
            "Epoch 62/100\n",
            "\u001b[1m251/251\u001b[0m \u001b[32m━━━━━━━━━━━━━━━━━━━━\u001b[0m\u001b[37m\u001b[0m \u001b[1m9s\u001b[0m 35ms/step - accuracy: 0.9965 - loss: 0.0178 - val_accuracy: 0.6335 - val_loss: 8.6997 - learning_rate: 1.0000e-06\n",
            "Epoch 63/100\n",
            "\u001b[1m251/251\u001b[0m \u001b[32m━━━━━━━━━━━━━━━━━━━━\u001b[0m\u001b[37m\u001b[0m \u001b[1m9s\u001b[0m 35ms/step - accuracy: 0.9897 - loss: 0.0246 - val_accuracy: 0.6335 - val_loss: 8.7063 - learning_rate: 1.0000e-06\n",
            "Epoch 64/100\n",
            "\u001b[1m251/251\u001b[0m \u001b[32m━━━━━━━━━━━━━━━━━━━━\u001b[0m\u001b[37m\u001b[0m \u001b[1m10s\u001b[0m 38ms/step - accuracy: 0.9898 - loss: 0.0291 - val_accuracy: 0.6295 - val_loss: 8.7264 - learning_rate: 1.0000e-06\n",
            "Epoch 65/100\n",
            "\u001b[1m251/251\u001b[0m \u001b[32m━━━━━━━━━━━━━━━━━━━━\u001b[0m\u001b[37m\u001b[0m \u001b[1m9s\u001b[0m 36ms/step - accuracy: 0.9937 - loss: 0.0246 - val_accuracy: 0.6335 - val_loss: 8.7044 - learning_rate: 1.0000e-06\n",
            "Epoch 66/100\n",
            "\u001b[1m251/251\u001b[0m \u001b[32m━━━━━━━━━━━━━━━━━━━━\u001b[0m\u001b[37m\u001b[0m \u001b[1m9s\u001b[0m 36ms/step - accuracy: 0.9921 - loss: 0.0307 - val_accuracy: 0.6335 - val_loss: 8.6995 - learning_rate: 1.0000e-06\n",
            "Epoch 67/100\n",
            "\u001b[1m251/251\u001b[0m \u001b[32m━━━━━━━━━━━━━━━━━━━━\u001b[0m\u001b[37m\u001b[0m \u001b[1m9s\u001b[0m 35ms/step - accuracy: 0.9844 - loss: 0.0288 - val_accuracy: 0.6335 - val_loss: 8.7181 - learning_rate: 1.0000e-06\n",
            "Epoch 68/100\n",
            "\u001b[1m251/251\u001b[0m \u001b[32m━━━━━━━━━━━━━━━━━━━━\u001b[0m\u001b[37m\u001b[0m \u001b[1m9s\u001b[0m 35ms/step - accuracy: 0.9870 - loss: 0.0306 - val_accuracy: 0.6335 - val_loss: 8.7312 - learning_rate: 1.0000e-06\n",
            "Epoch 69/100\n",
            "\u001b[1m251/251\u001b[0m \u001b[32m━━━━━━━━━━━━━━━━━━━━\u001b[0m\u001b[37m\u001b[0m \u001b[1m9s\u001b[0m 36ms/step - accuracy: 0.9818 - loss: 0.0399 - val_accuracy: 0.6335 - val_loss: 8.7078 - learning_rate: 1.0000e-06\n",
            "Epoch 70/100\n",
            "\u001b[1m251/251\u001b[0m \u001b[32m━━━━━━━━━━━━━━━━━━━━\u001b[0m\u001b[37m\u001b[0m \u001b[1m9s\u001b[0m 35ms/step - accuracy: 0.9941 - loss: 0.0362 - val_accuracy: 0.6295 - val_loss: 8.7259 - learning_rate: 1.0000e-06\n",
            "Epoch 71/100\n",
            "\u001b[1m251/251\u001b[0m \u001b[32m━━━━━━━━━━━━━━━━━━━━\u001b[0m\u001b[37m\u001b[0m \u001b[1m9s\u001b[0m 36ms/step - accuracy: 0.9929 - loss: 0.0256 - val_accuracy: 0.6335 - val_loss: 8.7140 - learning_rate: 1.0000e-06\n",
            "Epoch 72/100\n",
            "\u001b[1m251/251\u001b[0m \u001b[32m━━━━━━━━━━━━━━━━━━━━\u001b[0m\u001b[37m\u001b[0m \u001b[1m9s\u001b[0m 35ms/step - accuracy: 0.9935 - loss: 0.0447 - val_accuracy: 0.6335 - val_loss: 8.7101 - learning_rate: 1.0000e-06\n",
            "Epoch 73/100\n",
            "\u001b[1m251/251\u001b[0m \u001b[32m━━━━━━━━━━━━━━━━━━━━\u001b[0m\u001b[37m\u001b[0m \u001b[1m9s\u001b[0m 35ms/step - accuracy: 0.9808 - loss: 0.0443 - val_accuracy: 0.6335 - val_loss: 8.7156 - learning_rate: 1.0000e-06\n",
            "Epoch 74/100\n",
            "\u001b[1m251/251\u001b[0m \u001b[32m━━━━━━━━━━━━━━━━━━━━\u001b[0m\u001b[37m\u001b[0m \u001b[1m9s\u001b[0m 34ms/step - accuracy: 0.9922 - loss: 0.0205 - val_accuracy: 0.6335 - val_loss: 8.7080 - learning_rate: 1.0000e-06\n",
            "Epoch 75/100\n",
            "\u001b[1m251/251\u001b[0m \u001b[32m━━━━━━━━━━━━━━━━━━━━\u001b[0m\u001b[37m\u001b[0m \u001b[1m9s\u001b[0m 35ms/step - accuracy: 0.9856 - loss: 0.0444 - val_accuracy: 0.6295 - val_loss: 8.7059 - learning_rate: 1.0000e-06\n",
            "Epoch 76/100\n",
            "\u001b[1m251/251\u001b[0m \u001b[32m━━━━━━━━━━━━━━━━━━━━\u001b[0m\u001b[37m\u001b[0m \u001b[1m10s\u001b[0m 38ms/step - accuracy: 0.9923 - loss: 0.0233 - val_accuracy: 0.6295 - val_loss: 8.7123 - learning_rate: 1.0000e-06\n",
            "Epoch 77/100\n",
            "\u001b[1m251/251\u001b[0m \u001b[32m━━━━━━━━━━━━━━━━━━━━\u001b[0m\u001b[37m\u001b[0m \u001b[1m9s\u001b[0m 36ms/step - accuracy: 0.9920 - loss: 0.0253 - val_accuracy: 0.6295 - val_loss: 8.7143 - learning_rate: 1.0000e-06\n",
            "Epoch 78/100\n",
            "\u001b[1m251/251\u001b[0m \u001b[32m━━━━━━━━━━━━━━━━━━━━\u001b[0m\u001b[37m\u001b[0m \u001b[1m9s\u001b[0m 35ms/step - accuracy: 0.9865 - loss: 0.0545 - val_accuracy: 0.6295 - val_loss: 8.7144 - learning_rate: 1.0000e-06\n",
            "Epoch 79/100\n",
            "\u001b[1m251/251\u001b[0m \u001b[32m━━━━━━━━━━━━━━━━━━━━\u001b[0m\u001b[37m\u001b[0m \u001b[1m9s\u001b[0m 35ms/step - accuracy: 0.9863 - loss: 0.0389 - val_accuracy: 0.6295 - val_loss: 8.7157 - learning_rate: 1.0000e-06\n",
            "Epoch 80/100\n",
            "\u001b[1m251/251\u001b[0m \u001b[32m━━━━━━━━━━━━━━━━━━━━\u001b[0m\u001b[37m\u001b[0m \u001b[1m9s\u001b[0m 35ms/step - accuracy: 0.9928 - loss: 0.0248 - val_accuracy: 0.6295 - val_loss: 8.7150 - learning_rate: 1.0000e-06\n",
            "Epoch 81/100\n",
            "\u001b[1m251/251\u001b[0m \u001b[32m━━━━━━━━━━━━━━━━━━━━\u001b[0m\u001b[37m\u001b[0m \u001b[1m9s\u001b[0m 36ms/step - accuracy: 0.9960 - loss: 0.0214 - val_accuracy: 0.6295 - val_loss: 8.7154 - learning_rate: 1.0000e-06\n",
            "Epoch 82/100\n",
            "\u001b[1m251/251\u001b[0m \u001b[32m━━━━━━━━━━━━━━━━━━━━\u001b[0m\u001b[37m\u001b[0m \u001b[1m9s\u001b[0m 35ms/step - accuracy: 0.9879 - loss: 0.0236 - val_accuracy: 0.6335 - val_loss: 8.7231 - learning_rate: 1.0000e-06\n",
            "Epoch 83/100\n",
            "\u001b[1m251/251\u001b[0m \u001b[32m━━━━━━━━━━━━━━━━━━━━\u001b[0m\u001b[37m\u001b[0m \u001b[1m9s\u001b[0m 35ms/step - accuracy: 0.9857 - loss: 0.0400 - val_accuracy: 0.6295 - val_loss: 8.7224 - learning_rate: 1.0000e-06\n",
            "Epoch 84/100\n",
            "\u001b[1m251/251\u001b[0m \u001b[32m━━━━━━━━━━━━━━━━━━━━\u001b[0m\u001b[37m\u001b[0m \u001b[1m9s\u001b[0m 35ms/step - accuracy: 0.9937 - loss: 0.0261 - val_accuracy: 0.6295 - val_loss: 8.7258 - learning_rate: 1.0000e-06\n",
            "Epoch 85/100\n",
            "\u001b[1m251/251\u001b[0m \u001b[32m━━━━━━━━━━━━━━━━━━━━\u001b[0m\u001b[37m\u001b[0m \u001b[1m9s\u001b[0m 35ms/step - accuracy: 0.9847 - loss: 0.0332 - val_accuracy: 0.6295 - val_loss: 8.7409 - learning_rate: 1.0000e-06\n",
            "Epoch 86/100\n",
            "\u001b[1m251/251\u001b[0m \u001b[32m━━━━━━━━━━━━━━━━━━━━\u001b[0m\u001b[37m\u001b[0m \u001b[1m9s\u001b[0m 35ms/step - accuracy: 0.9928 - loss: 0.0249 - val_accuracy: 0.6335 - val_loss: 8.7425 - learning_rate: 1.0000e-06\n",
            "Epoch 87/100\n",
            "\u001b[1m251/251\u001b[0m \u001b[32m━━━━━━━━━━━━━━━━━━━━\u001b[0m\u001b[37m\u001b[0m \u001b[1m9s\u001b[0m 35ms/step - accuracy: 0.9940 - loss: 0.0309 - val_accuracy: 0.6335 - val_loss: 8.7421 - learning_rate: 1.0000e-06\n",
            "Epoch 88/100\n",
            "\u001b[1m251/251\u001b[0m \u001b[32m━━━━━━━━━━━━━━━━━━━━\u001b[0m\u001b[37m\u001b[0m \u001b[1m10s\u001b[0m 36ms/step - accuracy: 0.9891 - loss: 0.0445 - val_accuracy: 0.6295 - val_loss: 8.7274 - learning_rate: 1.0000e-06\n",
            "Epoch 89/100\n",
            "\u001b[1m251/251\u001b[0m \u001b[32m━━━━━━━━━━━━━━━━━━━━\u001b[0m\u001b[37m\u001b[0m \u001b[1m9s\u001b[0m 36ms/step - accuracy: 0.9866 - loss: 0.0384 - val_accuracy: 0.6295 - val_loss: 8.7325 - learning_rate: 1.0000e-06\n",
            "Epoch 90/100\n",
            "\u001b[1m251/251\u001b[0m \u001b[32m━━━━━━━━━━━━━━━━━━━━\u001b[0m\u001b[37m\u001b[0m \u001b[1m10s\u001b[0m 36ms/step - accuracy: 0.9968 - loss: 0.0157 - val_accuracy: 0.6255 - val_loss: 8.7307 - learning_rate: 1.0000e-06\n",
            "Epoch 91/100\n",
            "\u001b[1m251/251\u001b[0m \u001b[32m━━━━━━━━━━━━━━━━━━━━\u001b[0m\u001b[37m\u001b[0m \u001b[1m9s\u001b[0m 35ms/step - accuracy: 0.9895 - loss: 0.0254 - val_accuracy: 0.6255 - val_loss: 8.7285 - learning_rate: 1.0000e-06\n",
            "Epoch 92/100\n",
            "\u001b[1m251/251\u001b[0m \u001b[32m━━━━━━━━━━━━━━━━━━━━\u001b[0m\u001b[37m\u001b[0m \u001b[1m9s\u001b[0m 35ms/step - accuracy: 0.9819 - loss: 0.0566 - val_accuracy: 0.6255 - val_loss: 8.7462 - learning_rate: 1.0000e-06\n",
            "Epoch 93/100\n",
            "\u001b[1m251/251\u001b[0m \u001b[32m━━━━━━━━━━━━━━━━━━━━\u001b[0m\u001b[37m\u001b[0m \u001b[1m9s\u001b[0m 35ms/step - accuracy: 0.9972 - loss: 0.0147 - val_accuracy: 0.6295 - val_loss: 8.7613 - learning_rate: 1.0000e-06\n",
            "Epoch 94/100\n",
            "\u001b[1m251/251\u001b[0m \u001b[32m━━━━━━━━━━━━━━━━━━━━\u001b[0m\u001b[37m\u001b[0m \u001b[1m9s\u001b[0m 35ms/step - accuracy: 0.9887 - loss: 0.0319 - val_accuracy: 0.6295 - val_loss: 8.7564 - learning_rate: 1.0000e-06\n",
            "Epoch 95/100\n",
            "\u001b[1m251/251\u001b[0m \u001b[32m━━━━━━━━━━━━━━━━━━━━\u001b[0m\u001b[37m\u001b[0m \u001b[1m9s\u001b[0m 36ms/step - accuracy: 0.9884 - loss: 0.0408 - val_accuracy: 0.6295 - val_loss: 8.7489 - learning_rate: 1.0000e-06\n",
            "Epoch 96/100\n",
            "\u001b[1m251/251\u001b[0m \u001b[32m━━━━━━━━━━━━━━━━━━━━\u001b[0m\u001b[37m\u001b[0m \u001b[1m9s\u001b[0m 36ms/step - accuracy: 0.9703 - loss: 0.0560 - val_accuracy: 0.6295 - val_loss: 8.7374 - learning_rate: 1.0000e-06\n",
            "Epoch 97/100\n",
            "\u001b[1m251/251\u001b[0m \u001b[32m━━━━━━━━━━━━━━━━━━━━\u001b[0m\u001b[37m\u001b[0m \u001b[1m9s\u001b[0m 35ms/step - accuracy: 0.9905 - loss: 0.0231 - val_accuracy: 0.6295 - val_loss: 8.7434 - learning_rate: 1.0000e-06\n",
            "Epoch 98/100\n",
            "\u001b[1m251/251\u001b[0m \u001b[32m━━━━━━━━━━━━━━━━━━━━\u001b[0m\u001b[37m\u001b[0m \u001b[1m10s\u001b[0m 38ms/step - accuracy: 0.9850 - loss: 0.0983 - val_accuracy: 0.6295 - val_loss: 8.7403 - learning_rate: 1.0000e-06\n",
            "Epoch 99/100\n",
            "\u001b[1m251/251\u001b[0m \u001b[32m━━━━━━━━━━━━━━━━━━━━\u001b[0m\u001b[37m\u001b[0m \u001b[1m9s\u001b[0m 35ms/step - accuracy: 0.9964 - loss: 0.0267 - val_accuracy: 0.6295 - val_loss: 8.7622 - learning_rate: 1.0000e-06\n",
            "Epoch 100/100\n",
            "\u001b[1m251/251\u001b[0m \u001b[32m━━━━━━━━━━━━━━━━━━━━\u001b[0m\u001b[37m\u001b[0m \u001b[1m10s\u001b[0m 36ms/step - accuracy: 0.9974 - loss: 0.0134 - val_accuracy: 0.6295 - val_loss: 8.7662 - learning_rate: 1.0000e-06\n"
          ]
        },
        {
          "output_type": "execute_result",
          "data": {
            "text/plain": [
              "<keras.src.callbacks.history.History at 0x7a6f7a416a50>"
            ]
          },
          "metadata": {},
          "execution_count": 91
        }
      ]
    },
    {
      "cell_type": "code",
      "source": [
        "# Evaluate the model on test data\n",
        "test_loss, test_accuracy = cnn_model.evaluate(X_test, y_test)\n",
        "print(f\"Test Accuracy: {test_accuracy * 100:.2f}%\")"
      ],
      "metadata": {
        "colab": {
          "base_uri": "https://localhost:8080/"
        },
        "id": "CHjwUPhn78EL",
        "outputId": "c76d5496-3da1-483f-e06b-684e6a6b1b85"
      },
      "execution_count": 94,
      "outputs": [
        {
          "output_type": "stream",
          "name": "stdout",
          "text": [
            "\u001b[1m63/63\u001b[0m \u001b[32m━━━━━━━━━━━━━━━━━━━━\u001b[0m\u001b[37m\u001b[0m \u001b[1m2s\u001b[0m 24ms/step - accuracy: 0.6442 - loss: 5.8951\n",
            "Test Accuracy: 62.55%\n"
          ]
        }
      ]
    },
    {
      "cell_type": "code",
      "source": [
        "from tensorflow.keras.layers import BatchNormalization\n",
        "\n",
        "def build_cnn_model():\n",
        "    model = Sequential()\n",
        "    model.add(Conv2D(32, (3, 3), activation='relu', input_shape=(128, 128, 3)))\n",
        "    model.add(BatchNormalization())\n",
        "    model.add(MaxPooling2D((2, 2)))\n",
        "    model.add(Conv2D(64, (3, 3), activation='relu'))\n",
        "    model.add(BatchNormalization())\n",
        "    model.add(MaxPooling2D((2, 2)))\n",
        "    model.add(Conv2D(128, (3, 3), activation='relu'))\n",
        "    model.add(BatchNormalization())\n",
        "    model.add(MaxPooling2D((2, 2)))\n",
        "    model.add(Flatten())\n",
        "    model.add(Dense(128, activation='relu'))\n",
        "    model.add(Dropout(0.5))\n",
        "    model.add(Dense(10, activation='softmax'))  # Output layer for 10 classes\n",
        "    model.compile(optimizer='adam', loss='categorical_crossentropy', metrics=['accuracy'])\n",
        "    return model\n"
      ],
      "metadata": {
        "id": "-XRQEU1F38S5"
      },
      "execution_count": 95,
      "outputs": []
    },
    {
      "cell_type": "code",
      "source": [
        "from tensorflow.keras.preprocessing.image import ImageDataGenerator\n",
        "\n",
        "datagen = ImageDataGenerator(\n",
        "    rotation_range=30,\n",
        "    width_shift_range=0.2,\n",
        "    height_shift_range=0.2,\n",
        "    shear_range=0.2,\n",
        "    zoom_range=0.2,\n",
        "    horizontal_flip=True,\n",
        "    fill_mode='nearest'\n",
        ")\n",
        "\n",
        "datagen.fit(X_train)\n",
        "\n",
        "cnn_model.fit(datagen.flow(X_train, y_train, batch_size=32), epochs=100, validation_data=(X_test, y_test))\n"
      ],
      "metadata": {
        "colab": {
          "base_uri": "https://localhost:8080/"
        },
        "id": "-U_C5dg339xn",
        "outputId": "7dd4c125-b523-458b-eddd-918d85fe79a3"
      },
      "execution_count": null,
      "outputs": [
        {
          "output_type": "stream",
          "name": "stdout",
          "text": [
            "Epoch 1/100\n",
            "\u001b[1m251/251\u001b[0m \u001b[32m━━━━━━━━━━━━━━━━━━━━\u001b[0m\u001b[37m\u001b[0m \u001b[1m31s\u001b[0m 117ms/step - accuracy: 0.6149 - loss: 6.9963 - val_accuracy: 0.6215 - val_loss: 7.7320\n",
            "Epoch 2/100\n",
            "\u001b[1m251/251\u001b[0m \u001b[32m━━━━━━━━━━━━━━━━━━━━\u001b[0m\u001b[37m\u001b[0m \u001b[1m30s\u001b[0m 115ms/step - accuracy: 0.6137 - loss: 8.0783 - val_accuracy: 0.6255 - val_loss: 7.5335\n",
            "Epoch 3/100\n",
            "\u001b[1m251/251\u001b[0m \u001b[32m━━━━━━━━━━━━━━━━━━━━\u001b[0m\u001b[37m\u001b[0m \u001b[1m30s\u001b[0m 114ms/step - accuracy: 0.6287 - loss: 6.9704 - val_accuracy: 0.6215 - val_loss: 7.3432\n",
            "Epoch 4/100\n",
            "\u001b[1m251/251\u001b[0m \u001b[32m━━━━━━━━━━━━━━━━━━━━\u001b[0m\u001b[37m\u001b[0m \u001b[1m30s\u001b[0m 115ms/step - accuracy: 0.5767 - loss: 6.5886 - val_accuracy: 0.6175 - val_loss: 7.1841\n",
            "Epoch 5/100\n",
            "\u001b[1m251/251\u001b[0m \u001b[32m━━━━━━━━━━━━━━━━━━━━\u001b[0m\u001b[37m\u001b[0m \u001b[1m30s\u001b[0m 115ms/step - accuracy: 0.5964 - loss: 6.4870 - val_accuracy: 0.6175 - val_loss: 7.0526\n",
            "Epoch 6/100\n",
            "\u001b[1m251/251\u001b[0m \u001b[32m━━━━━━━━━━━━━━━━━━━━\u001b[0m\u001b[37m\u001b[0m \u001b[1m31s\u001b[0m 115ms/step - accuracy: 0.6168 - loss: 7.2949 - val_accuracy: 0.6175 - val_loss: 6.9093\n",
            "Epoch 7/100\n",
            "\u001b[1m251/251\u001b[0m \u001b[32m━━━━━━━━━━━━━━━━━━━━\u001b[0m\u001b[37m\u001b[0m \u001b[1m30s\u001b[0m 114ms/step - accuracy: 0.6097 - loss: 6.3618 - val_accuracy: 0.6135 - val_loss: 6.7827\n",
            "Epoch 8/100\n",
            "\u001b[1m251/251\u001b[0m \u001b[32m━━━━━━━━━━━━━━━━━━━━\u001b[0m\u001b[37m\u001b[0m \u001b[1m30s\u001b[0m 114ms/step - accuracy: 0.5901 - loss: 5.9701 - val_accuracy: 0.6135 - val_loss: 6.6452\n",
            "Epoch 9/100\n",
            "\u001b[1m251/251\u001b[0m \u001b[32m━━━━━━━━━━━━━━━━━━━━\u001b[0m\u001b[37m\u001b[0m \u001b[1m30s\u001b[0m 114ms/step - accuracy: 0.5872 - loss: 6.6831 - val_accuracy: 0.6096 - val_loss: 6.5189\n",
            "Epoch 10/100\n",
            "\u001b[1m251/251\u001b[0m \u001b[32m━━━━━━━━━━━━━━━━━━━━\u001b[0m\u001b[37m\u001b[0m \u001b[1m29s\u001b[0m 113ms/step - accuracy: 0.5714 - loss: 7.3217 - val_accuracy: 0.6135 - val_loss: 6.4102\n",
            "Epoch 11/100\n",
            "\u001b[1m251/251\u001b[0m \u001b[32m━━━━━━━━━━━━━━━━━━━━\u001b[0m\u001b[37m\u001b[0m \u001b[1m30s\u001b[0m 115ms/step - accuracy: 0.5702 - loss: 6.5835 - val_accuracy: 0.6096 - val_loss: 6.3003\n",
            "Epoch 12/100\n",
            "\u001b[1m251/251\u001b[0m \u001b[32m━━━━━━━━━━━━━━━━━━━━\u001b[0m\u001b[37m\u001b[0m \u001b[1m30s\u001b[0m 114ms/step - accuracy: 0.5774 - loss: 6.2042 - val_accuracy: 0.6056 - val_loss: 6.1927\n",
            "Epoch 13/100\n",
            "\u001b[1m251/251\u001b[0m \u001b[32m━━━━━━━━━━━━━━━━━━━━\u001b[0m\u001b[37m\u001b[0m \u001b[1m30s\u001b[0m 115ms/step - accuracy: 0.5746 - loss: 6.7439 - val_accuracy: 0.6016 - val_loss: 6.0793\n",
            "Epoch 14/100\n",
            "\u001b[1m251/251\u001b[0m \u001b[32m━━━━━━━━━━━━━━━━━━━━\u001b[0m\u001b[37m\u001b[0m \u001b[1m30s\u001b[0m 113ms/step - accuracy: 0.5514 - loss: 6.8840 - val_accuracy: 0.6016 - val_loss: 5.9751\n",
            "Epoch 15/100\n",
            "\u001b[1m251/251\u001b[0m \u001b[32m━━━━━━━━━━━━━━━━━━━━\u001b[0m\u001b[37m\u001b[0m \u001b[1m30s\u001b[0m 114ms/step - accuracy: 0.5402 - loss: 6.3896 - val_accuracy: 0.6016 - val_loss: 5.8581\n",
            "Epoch 16/100\n",
            "\u001b[1m251/251\u001b[0m \u001b[32m━━━━━━━━━━━━━━━━━━━━\u001b[0m\u001b[37m\u001b[0m \u001b[1m31s\u001b[0m 117ms/step - accuracy: 0.5655 - loss: 6.1371 - val_accuracy: 0.6016 - val_loss: 5.7652\n",
            "Epoch 17/100\n",
            "\u001b[1m251/251\u001b[0m \u001b[32m━━━━━━━━━━━━━━━━━━━━\u001b[0m\u001b[37m\u001b[0m \u001b[1m30s\u001b[0m 114ms/step - accuracy: 0.5976 - loss: 6.0169 - val_accuracy: 0.6016 - val_loss: 5.6540\n",
            "Epoch 18/100\n",
            "\u001b[1m251/251\u001b[0m \u001b[32m━━━━━━━━━━━━━━━━━━━━\u001b[0m\u001b[37m\u001b[0m \u001b[1m30s\u001b[0m 114ms/step - accuracy: 0.5659 - loss: 5.1512 - val_accuracy: 0.6096 - val_loss: 5.5588\n",
            "Epoch 19/100\n",
            "\u001b[1m251/251\u001b[0m \u001b[32m━━━━━━━━━━━━━━━━━━━━\u001b[0m\u001b[37m\u001b[0m \u001b[1m30s\u001b[0m 116ms/step - accuracy: 0.5703 - loss: 5.7319 - val_accuracy: 0.6016 - val_loss: 5.4636\n",
            "Epoch 20/100\n",
            "\u001b[1m251/251\u001b[0m \u001b[32m━━━━━━━━━━━━━━━━━━━━\u001b[0m\u001b[37m\u001b[0m \u001b[1m29s\u001b[0m 113ms/step - accuracy: 0.5694 - loss: 6.6892 - val_accuracy: 0.6056 - val_loss: 5.3671\n",
            "Epoch 21/100\n",
            "\u001b[1m251/251\u001b[0m \u001b[32m━━━━━━━━━━━━━━━━━━━━\u001b[0m\u001b[37m\u001b[0m \u001b[1m30s\u001b[0m 115ms/step - accuracy: 0.6022 - loss: 5.4214 - val_accuracy: 0.6096 - val_loss: 5.2769\n",
            "Epoch 22/100\n",
            "\u001b[1m251/251\u001b[0m \u001b[32m━━━━━━━━━━━━━━━━━━━━\u001b[0m\u001b[37m\u001b[0m \u001b[1m30s\u001b[0m 114ms/step - accuracy: 0.5826 - loss: 6.4328 - val_accuracy: 0.6096 - val_loss: 5.1843\n",
            "Epoch 23/100\n",
            "\u001b[1m251/251\u001b[0m \u001b[32m━━━━━━━━━━━━━━━━━━━━\u001b[0m\u001b[37m\u001b[0m \u001b[1m30s\u001b[0m 114ms/step - accuracy: 0.5276 - loss: 6.5349 - val_accuracy: 0.6096 - val_loss: 5.0956\n",
            "Epoch 24/100\n",
            "\u001b[1m251/251\u001b[0m \u001b[32m━━━━━━━━━━━━━━━━━━━━\u001b[0m\u001b[37m\u001b[0m \u001b[1m30s\u001b[0m 114ms/step - accuracy: 0.5732 - loss: 6.1336 - val_accuracy: 0.6135 - val_loss: 5.0142\n",
            "Epoch 25/100\n",
            "\u001b[1m251/251\u001b[0m \u001b[32m━━━━━━━━━━━━━━━━━━━━\u001b[0m\u001b[37m\u001b[0m \u001b[1m30s\u001b[0m 113ms/step - accuracy: 0.5279 - loss: 5.9839 - val_accuracy: 0.6135 - val_loss: 4.9422\n",
            "Epoch 26/100\n",
            "\u001b[1m251/251\u001b[0m \u001b[32m━━━━━━━━━━━━━━━━━━━━\u001b[0m\u001b[37m\u001b[0m \u001b[1m29s\u001b[0m 113ms/step - accuracy: 0.6000 - loss: 4.9509 - val_accuracy: 0.6175 - val_loss: 4.8634\n",
            "Epoch 27/100\n",
            "\u001b[1m251/251\u001b[0m \u001b[32m━━━━━━━━━━━━━━━━━━━━\u001b[0m\u001b[37m\u001b[0m \u001b[1m30s\u001b[0m 114ms/step - accuracy: 0.5672 - loss: 4.4918 - val_accuracy: 0.6175 - val_loss: 4.7898\n",
            "Epoch 28/100\n",
            "\u001b[1m251/251\u001b[0m \u001b[32m━━━━━━━━━━━━━━━━━━━━\u001b[0m\u001b[37m\u001b[0m \u001b[1m31s\u001b[0m 118ms/step - accuracy: 0.5250 - loss: 5.1997 - val_accuracy: 0.6175 - val_loss: 4.7059\n",
            "Epoch 29/100\n",
            "\u001b[1m251/251\u001b[0m \u001b[32m━━━━━━━━━━━━━━━━━━━━\u001b[0m\u001b[37m\u001b[0m \u001b[1m30s\u001b[0m 115ms/step - accuracy: 0.5501 - loss: 4.9264 - val_accuracy: 0.6175 - val_loss: 4.6339\n",
            "Epoch 30/100\n",
            "\u001b[1m251/251\u001b[0m \u001b[32m━━━━━━━━━━━━━━━━━━━━\u001b[0m\u001b[37m\u001b[0m \u001b[1m30s\u001b[0m 114ms/step - accuracy: 0.5907 - loss: 4.7012 - val_accuracy: 0.6135 - val_loss: 4.5591\n",
            "Epoch 31/100\n",
            "\u001b[1m251/251\u001b[0m \u001b[32m━━━━━━━━━━━━━━━━━━━━\u001b[0m\u001b[37m\u001b[0m \u001b[1m30s\u001b[0m 114ms/step - accuracy: 0.5355 - loss: 4.6902 - val_accuracy: 0.6135 - val_loss: 4.4871\n",
            "Epoch 32/100\n",
            "\u001b[1m251/251\u001b[0m \u001b[32m━━━━━━━━━━━━━━━━━━━━\u001b[0m\u001b[37m\u001b[0m \u001b[1m30s\u001b[0m 113ms/step - accuracy: 0.5411 - loss: 4.3235 - val_accuracy: 0.6135 - val_loss: 4.4222\n",
            "Epoch 33/100\n",
            "\u001b[1m251/251\u001b[0m \u001b[32m━━━━━━━━━━━━━━━━━━━━\u001b[0m\u001b[37m\u001b[0m \u001b[1m30s\u001b[0m 113ms/step - accuracy: 0.5218 - loss: 4.3926 - val_accuracy: 0.6135 - val_loss: 4.3617\n",
            "Epoch 34/100\n",
            "\u001b[1m251/251\u001b[0m \u001b[32m━━━━━━━━━━━━━━━━━━━━\u001b[0m\u001b[37m\u001b[0m \u001b[1m29s\u001b[0m 113ms/step - accuracy: 0.5465 - loss: 4.5645 - val_accuracy: 0.6135 - val_loss: 4.2969\n",
            "Epoch 35/100\n",
            "\u001b[1m251/251\u001b[0m \u001b[32m━━━━━━━━━━━━━━━━━━━━\u001b[0m\u001b[37m\u001b[0m \u001b[1m30s\u001b[0m 114ms/step - accuracy: 0.5638 - loss: 5.0712 - val_accuracy: 0.6135 - val_loss: 4.2318\n",
            "Epoch 36/100\n",
            "\u001b[1m251/251\u001b[0m \u001b[32m━━━━━━━━━━━━━━━━━━━━\u001b[0m\u001b[37m\u001b[0m \u001b[1m30s\u001b[0m 113ms/step - accuracy: 0.5904 - loss: 4.8440 - val_accuracy: 0.6135 - val_loss: 4.1640\n",
            "Epoch 37/100\n",
            "\u001b[1m251/251\u001b[0m \u001b[32m━━━━━━━━━━━━━━━━━━━━\u001b[0m\u001b[37m\u001b[0m \u001b[1m30s\u001b[0m 114ms/step - accuracy: 0.5800 - loss: 4.5540 - val_accuracy: 0.6175 - val_loss: 4.1055\n",
            "Epoch 38/100\n",
            "\u001b[1m251/251\u001b[0m \u001b[32m━━━━━━━━━━━━━━━━━━━━\u001b[0m\u001b[37m\u001b[0m \u001b[1m30s\u001b[0m 114ms/step - accuracy: 0.4688 - loss: 4.8752 - val_accuracy: 0.6215 - val_loss: 4.0482\n",
            "Epoch 39/100\n",
            "\u001b[1m251/251\u001b[0m \u001b[32m━━━━━━━━━━━━━━━━━━━━\u001b[0m\u001b[37m\u001b[0m \u001b[1m31s\u001b[0m 117ms/step - accuracy: 0.5139 - loss: 4.8205 - val_accuracy: 0.6215 - val_loss: 3.9879\n",
            "Epoch 40/100\n",
            "\u001b[1m251/251\u001b[0m \u001b[32m━━━━━━━━━━━━━━━━━━━━\u001b[0m\u001b[37m\u001b[0m \u001b[1m30s\u001b[0m 115ms/step - accuracy: 0.5124 - loss: 3.9728 - val_accuracy: 0.6175 - val_loss: 3.9245\n",
            "Epoch 41/100\n",
            "\u001b[1m251/251\u001b[0m \u001b[32m━━━━━━━━━━━━━━━━━━━━\u001b[0m\u001b[37m\u001b[0m \u001b[1m30s\u001b[0m 114ms/step - accuracy: 0.5080 - loss: 4.5491 - val_accuracy: 0.6135 - val_loss: 3.8714\n",
            "Epoch 42/100\n",
            "\u001b[1m251/251\u001b[0m \u001b[32m━━━━━━━━━━━━━━━━━━━━\u001b[0m\u001b[37m\u001b[0m \u001b[1m30s\u001b[0m 116ms/step - accuracy: 0.5417 - loss: 4.0305 - val_accuracy: 0.6056 - val_loss: 3.8141\n",
            "Epoch 43/100\n",
            "\u001b[1m251/251\u001b[0m \u001b[32m━━━━━━━━━━━━━━━━━━━━\u001b[0m\u001b[37m\u001b[0m \u001b[1m30s\u001b[0m 115ms/step - accuracy: 0.5399 - loss: 3.6259 - val_accuracy: 0.6056 - val_loss: 3.7596\n",
            "Epoch 44/100\n",
            "\u001b[1m251/251\u001b[0m \u001b[32m━━━━━━━━━━━━━━━━━━━━\u001b[0m\u001b[37m\u001b[0m \u001b[1m30s\u001b[0m 115ms/step - accuracy: 0.5280 - loss: 4.4111 - val_accuracy: 0.6056 - val_loss: 3.7109\n",
            "Epoch 45/100\n",
            "\u001b[1m251/251\u001b[0m \u001b[32m━━━━━━━━━━━━━━━━━━━━\u001b[0m\u001b[37m\u001b[0m \u001b[1m30s\u001b[0m 114ms/step - accuracy: 0.5210 - loss: 3.8928 - val_accuracy: 0.6056 - val_loss: 3.6621\n",
            "Epoch 46/100\n",
            "\u001b[1m251/251\u001b[0m \u001b[32m━━━━━━━━━━━━━━━━━━━━\u001b[0m\u001b[37m\u001b[0m \u001b[1m30s\u001b[0m 115ms/step - accuracy: 0.5199 - loss: 3.6017 - val_accuracy: 0.6096 - val_loss: 3.6139\n",
            "Epoch 47/100\n",
            "\u001b[1m251/251\u001b[0m \u001b[32m━━━━━━━━━━━━━━━━━━━━\u001b[0m\u001b[37m\u001b[0m \u001b[1m29s\u001b[0m 112ms/step - accuracy: 0.5145 - loss: 4.0886 - val_accuracy: 0.6096 - val_loss: 3.5705\n",
            "Epoch 48/100\n",
            "\u001b[1m251/251\u001b[0m \u001b[32m━━━━━━━━━━━━━━━━━━━━\u001b[0m\u001b[37m\u001b[0m \u001b[1m29s\u001b[0m 112ms/step - accuracy: 0.4964 - loss: 4.1310 - val_accuracy: 0.6096 - val_loss: 3.5200\n",
            "Epoch 49/100\n",
            "\u001b[1m251/251\u001b[0m \u001b[32m━━━━━━━━━━━━━━━━━━━━\u001b[0m\u001b[37m\u001b[0m \u001b[1m30s\u001b[0m 114ms/step - accuracy: 0.5291 - loss: 3.6702 - val_accuracy: 0.6056 - val_loss: 3.4604\n",
            "Epoch 50/100\n",
            "\u001b[1m251/251\u001b[0m \u001b[32m━━━━━━━━━━━━━━━━━━━━\u001b[0m\u001b[37m\u001b[0m \u001b[1m30s\u001b[0m 113ms/step - accuracy: 0.5006 - loss: 4.5411 - val_accuracy: 0.6056 - val_loss: 3.4141\n",
            "Epoch 51/100\n",
            "\u001b[1m251/251\u001b[0m \u001b[32m━━━━━━━━━━━━━━━━━━━━\u001b[0m\u001b[37m\u001b[0m \u001b[1m30s\u001b[0m 117ms/step - accuracy: 0.5107 - loss: 4.4262 - val_accuracy: 0.6056 - val_loss: 3.3600\n",
            "Epoch 52/100\n",
            "\u001b[1m251/251\u001b[0m \u001b[32m━━━━━━━━━━━━━━━━━━━━\u001b[0m\u001b[37m\u001b[0m \u001b[1m30s\u001b[0m 115ms/step - accuracy: 0.5180 - loss: 3.7606 - val_accuracy: 0.6016 - val_loss: 3.3090\n",
            "Epoch 53/100\n",
            "\u001b[1m251/251\u001b[0m \u001b[32m━━━━━━━━━━━━━━━━━━━━\u001b[0m\u001b[37m\u001b[0m \u001b[1m30s\u001b[0m 115ms/step - accuracy: 0.5248 - loss: 3.1816 - val_accuracy: 0.5976 - val_loss: 3.2632\n",
            "Epoch 54/100\n",
            "\u001b[1m251/251\u001b[0m \u001b[32m━━━━━━━━━━━━━━━━━━━━\u001b[0m\u001b[37m\u001b[0m \u001b[1m30s\u001b[0m 115ms/step - accuracy: 0.4820 - loss: 3.6714 - val_accuracy: 0.5936 - val_loss: 3.2162\n",
            "Epoch 55/100\n",
            "\u001b[1m251/251\u001b[0m \u001b[32m━━━━━━━━━━━━━━━━━━━━\u001b[0m\u001b[37m\u001b[0m \u001b[1m30s\u001b[0m 114ms/step - accuracy: 0.4868 - loss: 3.9511 - val_accuracy: 0.5976 - val_loss: 3.1717\n",
            "Epoch 56/100\n",
            "\u001b[1m251/251\u001b[0m \u001b[32m━━━━━━━━━━━━━━━━━━━━\u001b[0m\u001b[37m\u001b[0m \u001b[1m30s\u001b[0m 114ms/step - accuracy: 0.4981 - loss: 3.6498 - val_accuracy: 0.5896 - val_loss: 3.1199\n",
            "Epoch 57/100\n",
            "\u001b[1m251/251\u001b[0m \u001b[32m━━━━━━━━━━━━━━━━━━━━\u001b[0m\u001b[37m\u001b[0m \u001b[1m30s\u001b[0m 114ms/step - accuracy: 0.5262 - loss: 3.4823 - val_accuracy: 0.5857 - val_loss: 3.0749\n",
            "Epoch 58/100\n",
            "\u001b[1m251/251\u001b[0m \u001b[32m━━━━━━━━━━━━━━━━━━━━\u001b[0m\u001b[37m\u001b[0m \u001b[1m30s\u001b[0m 115ms/step - accuracy: 0.5286 - loss: 3.4741 - val_accuracy: 0.5896 - val_loss: 3.0374\n",
            "Epoch 59/100\n",
            "\u001b[1m251/251\u001b[0m \u001b[32m━━━━━━━━━━━━━━━━━━━━\u001b[0m\u001b[37m\u001b[0m \u001b[1m30s\u001b[0m 113ms/step - accuracy: 0.4589 - loss: 3.4138 - val_accuracy: 0.5777 - val_loss: 2.9910\n",
            "Epoch 60/100\n",
            "\u001b[1m251/251\u001b[0m \u001b[32m━━━━━━━━━━━━━━━━━━━━\u001b[0m\u001b[37m\u001b[0m \u001b[1m30s\u001b[0m 113ms/step - accuracy: 0.5161 - loss: 2.9927 - val_accuracy: 0.5737 - val_loss: 2.9519\n",
            "Epoch 61/100\n",
            "\u001b[1m251/251\u001b[0m \u001b[32m━━━━━━━━━━━━━━━━━━━━\u001b[0m\u001b[37m\u001b[0m \u001b[1m30s\u001b[0m 114ms/step - accuracy: 0.5195 - loss: 3.0881 - val_accuracy: 0.5737 - val_loss: 2.9081\n",
            "Epoch 62/100\n",
            "\u001b[1m251/251\u001b[0m \u001b[32m━━━━━━━━━━━━━━━━━━━━\u001b[0m\u001b[37m\u001b[0m \u001b[1m30s\u001b[0m 113ms/step - accuracy: 0.4921 - loss: 3.4665 - val_accuracy: 0.5657 - val_loss: 2.8613\n",
            "Epoch 63/100\n",
            "\u001b[1m251/251\u001b[0m \u001b[32m━━━━━━━━━━━━━━━━━━━━\u001b[0m\u001b[37m\u001b[0m \u001b[1m31s\u001b[0m 114ms/step - accuracy: 0.5346 - loss: 2.8648 - val_accuracy: 0.5657 - val_loss: 2.8282\n",
            "Epoch 64/100\n",
            "\u001b[1m251/251\u001b[0m \u001b[32m━━━━━━━━━━━━━━━━━━━━\u001b[0m\u001b[37m\u001b[0m \u001b[1m30s\u001b[0m 116ms/step - accuracy: 0.4569 - loss: 4.2037 - val_accuracy: 0.5657 - val_loss: 2.7924\n",
            "Epoch 65/100\n",
            "\u001b[1m251/251\u001b[0m \u001b[32m━━━━━━━━━━━━━━━━━━━━\u001b[0m\u001b[37m\u001b[0m \u001b[1m30s\u001b[0m 113ms/step - accuracy: 0.5002 - loss: 3.3995 - val_accuracy: 0.5697 - val_loss: 2.7572\n",
            "Epoch 66/100\n",
            "\u001b[1m251/251\u001b[0m \u001b[32m━━━━━━━━━━━━━━━━━━━━\u001b[0m\u001b[37m\u001b[0m \u001b[1m30s\u001b[0m 114ms/step - accuracy: 0.4815 - loss: 3.6794 - val_accuracy: 0.5657 - val_loss: 2.7244\n",
            "Epoch 67/100\n",
            "\u001b[1m251/251\u001b[0m \u001b[32m━━━━━━━━━━━━━━━━━━━━\u001b[0m\u001b[37m\u001b[0m \u001b[1m30s\u001b[0m 114ms/step - accuracy: 0.5185 - loss: 2.7451 - val_accuracy: 0.5657 - val_loss: 2.6853\n",
            "Epoch 68/100\n",
            "\u001b[1m251/251\u001b[0m \u001b[32m━━━━━━━━━━━━━━━━━━━━\u001b[0m\u001b[37m\u001b[0m \u001b[1m30s\u001b[0m 114ms/step - accuracy: 0.4683 - loss: 2.8802 - val_accuracy: 0.5657 - val_loss: 2.6469\n",
            "Epoch 69/100\n",
            "\u001b[1m251/251\u001b[0m \u001b[32m━━━━━━━━━━━━━━━━━━━━\u001b[0m\u001b[37m\u001b[0m \u001b[1m30s\u001b[0m 114ms/step - accuracy: 0.4803 - loss: 3.4637 - val_accuracy: 0.5657 - val_loss: 2.6139\n",
            "Epoch 70/100\n",
            "\u001b[1m251/251\u001b[0m \u001b[32m━━━━━━━━━━━━━━━━━━━━\u001b[0m\u001b[37m\u001b[0m \u001b[1m30s\u001b[0m 115ms/step - accuracy: 0.4459 - loss: 3.1137 - val_accuracy: 0.5657 - val_loss: 2.5800\n",
            "Epoch 71/100\n",
            "\u001b[1m250/251\u001b[0m \u001b[32m━━━━━━━━━━━━━━━━━━━\u001b[0m\u001b[37m━\u001b[0m \u001b[1m0s\u001b[0m 105ms/step - accuracy: 0.4832 - loss: 3.5504"
          ]
        }
      ]
    },
    {
      "cell_type": "code",
      "source": [
        "# Evaluate this model on test data\n",
        "test_loss, test_accuracy = cnn_model.evaluate(X_test, y_test)\n",
        "print(f\"Test Accuracy: {test_accuracy * 100:.2f}%\")"
      ],
      "metadata": {
        "id": "e5zLr9jI8CWJ"
      },
      "execution_count": null,
      "outputs": []
    },
    {
      "cell_type": "code",
      "source": [
        "# Save CNN model\n",
        "cnn_model.save(\"/content/drive/MyDrive/SKIN/cnn_skin_cancer.h5\")"
      ],
      "metadata": {
        "id": "dr_J7PgnAs_5"
      },
      "execution_count": null,
      "outputs": []
    },
    {
      "cell_type": "code",
      "source": [
        "from tensorflow.keras.applications import VGG16\n",
        "from tensorflow.keras.layers import GlobalAveragePooling2D\n",
        "\n",
        "base_model = VGG16(weights='imagenet', include_top=False, input_shape=(128, 128, 3))\n",
        "base_model.trainable = False  # Freeze the base model layers\n",
        "\n",
        "model = Sequential()\n",
        "model.add(base_model)\n",
        "model.add(GlobalAveragePooling2D())\n",
        "model.add(Dense(128, activation='relu'))\n",
        "model.add(Dropout(0.5))\n",
        "model.add(Dense(10, activation='softmax'))  # Output layer for 10 classes\n",
        "model.compile(optimizer='adam', loss='categorical_crossentropy', metrics=['accuracy'])\n",
        "\n",
        "model.fit(X_train, y_train, epochs=100, batch_size=32, validation_data=(X_test, y_test))\n"
      ],
      "metadata": {
        "id": "SlwfdV624DKd"
      },
      "execution_count": null,
      "outputs": []
    },
    {
      "cell_type": "code",
      "source": [
        "# Evaluate the model on test data\n",
        "test_loss, test_accuracy = cnn_model.evaluate(X_test, y_test)\n",
        "print(f\"Test Accuracy: {test_accuracy * 100:.2f}%\")"
      ],
      "metadata": {
        "id": "xOORzvktwRgN"
      },
      "execution_count": null,
      "outputs": []
    },
    {
      "cell_type": "code",
      "source": [
        "# Save CNN model\n",
        "cnn_model.save(\"/content/drive/MyDrive/SKIN/cnn_skin_cancer.h5\")"
      ],
      "metadata": {
        "id": "UyyOxcEFqtKx"
      },
      "execution_count": null,
      "outputs": []
    },
    {
      "cell_type": "code",
      "source": [
        "# Extract features for ML models\n",
        "X_flat = X.reshape(X.shape[0], -1)\n",
        "scaler = StandardScaler()\n",
        "X_scaled = scaler.fit_transform(X_flat)\n",
        "pca = PCA(n_components=100)\n",
        "X_pca = pca.fit_transform(X_scaled)"
      ],
      "metadata": {
        "id": "O5E0PK3U-DYa"
      },
      "execution_count": null,
      "outputs": []
    },
    {
      "cell_type": "code",
      "source": [
        "# Train ML models\n",
        "rf_model = RandomForestClassifier(n_estimators=100)\n",
        "rf_model.fit(X_pca[:len(y_train)], y_train)\n",
        "y_pred_rf = rf_model.predict(X_pca[len(y_train):])\n",
        "rf_accuracy = accuracy_score(y_test, y_pred_rf)\n",
        "\n",
        "svm_model = SVC(kernel='linear')\n",
        "svm_model.fit(X_pca[:len(y_train)], y_train)\n",
        "y_pred_svm = svm_model.predict(X_pca[len(y_train):])\n",
        "svm_accuracy = accuracy_score(y_test, y_pred_svm)\n"
      ],
      "metadata": {
        "id": "kJ3x_Y-b-Och"
      },
      "execution_count": null,
      "outputs": []
    },
    {
      "cell_type": "code",
      "source": [
        "# Save ML models\n",
        "with open(\"rf_model.pkl\", \"wb\") as f:\n",
        "    pickle.dump(rf_model, f)\n",
        "with open(\"svm_model.pkl\", \"wb\") as f:\n",
        "    pickle.dump(svm_model, f)\n",
        "with open(\"scaler.pkl\", \"wb\") as f:\n",
        "    pickle.dump(scaler, f)\n",
        "with open(\"pca.pkl\", \"wb\") as f:\n",
        "    pickle.dump(pca, f)"
      ],
      "metadata": {
        "id": "1TratFDFq4xe"
      },
      "execution_count": null,
      "outputs": []
    },
    {
      "cell_type": "code",
      "source": [
        "# results\n",
        "print(f\"CNN Accuracy: {cnn_accuracy:.4f}\")\n",
        "print(f\"Random Forest Accuracy: {rf_accuracy:.4f}\")\n",
        "print(f\"SVM Accuracy: {svm_accuracy:.4f}\")"
      ],
      "metadata": {
        "id": "5MtpbKQm-VB5"
      },
      "execution_count": null,
      "outputs": []
    },
    {
      "cell_type": "code",
      "source": [
        "# Take image path input at runtime\n",
        "image_path = input(\"Enter the path of the image: \")\n",
        "\n",
        "# Choose model type (CNN, RF, or SVM)\n",
        "model_type = input(\"Enter model type (cnn/rf/svm): \").lower()\n",
        "\n",
        "# Make prediction\n",
        "predict_custom_image(image_path, model_type)\n"
      ],
      "metadata": {
        "id": "JbssUuF2rVvt"
      },
      "execution_count": null,
      "outputs": []
    },
    {
      "cell_type": "code",
      "source": [
        "# Function to load a custom image and make a prediction\n",
        "def predict_custom_image(image_path, model_type=\"cnn\"):\n",
        "    img = cv2.imread(image_path)\n",
        "    img = cv2.resize(img, (128, 128))\n",
        "    img = img / 255.0  # Normalize\n",
        "    img = np.expand_dims(img, axis=0)\n",
        "\n",
        "    if model_type == \"cnn\":\n",
        "        model = load_model(\"cnn_skin_cancer.h5\")\n",
        "        prediction = np.argmax(model.predict(img))\n",
        "    else:\n",
        "        with open(\"rf_model.pkl\", \"rb\") as f:\n",
        "            rf_model = pickle.load(f)\n",
        "        with open(\"svm_model.pkl\", \"rb\") as f:\n",
        "            svm_model = pickle.load(f)\n",
        "        with open(\"scaler.pkl\", \"rb\") as f:\n",
        "            scaler = pickle.load(f)\n",
        "        with open(\"pca.pkl\", \"rb\") as f:\n",
        "            pca = pickle.load(f)\n",
        "\n",
        "        img_flat = img.reshape(1, -1)\n",
        "        img_scaled = scaler.transform(img_flat)\n",
        "        img_pca = pca.transform(img_scaled)\n",
        "        prediction = rf_model.predict(img_pca)[0] if model_type == \"rf\" else svm_model.predict(img_pca)[0]\n",
        "\n",
        "    label = label_encoder.inverse_transform([prediction])[0]\n",
        "    print(f\"Predicted class: {label}\")\n",
        "    return label"
      ],
      "metadata": {
        "id": "HA4q5k2Tq9SZ"
      },
      "execution_count": null,
      "outputs": []
    },
    {
      "cell_type": "code",
      "source": [
        "import gradio as gr\n",
        "\n",
        "def predict_uploaded_image(image, model_type=\"cnn\"):\n",
        "    if image is None:\n",
        "        return \"No image uploaded!\"\n",
        "\n",
        "    img = cv2.imread(image)\n",
        "    img = cv2.resize(img, (128, 128))\n",
        "    img = img / 255.0  # Normalize\n",
        "    img = np.expand_dims(img, axis=0)\n",
        "\n",
        "    if model_type == \"cnn\":\n",
        "        model = load_model(\"cnn_skin_cancer.h5\")\n",
        "        prediction = np.argmax(model.predict(img))\n",
        "    else:\n",
        "        with open(\"rf_model.pkl\", \"rb\") as f:\n",
        "            rf_model = pickle.load(f)\n",
        "        with open(\"svm_model.pkl\", \"rb\") as f:\n",
        "            svm_model = pickle.load(f)\n",
        "        with open(\"scaler.pkl\", \"rb\") as f:\n",
        "            scaler = pickle.load(f)\n",
        "        with open(\"pca.pkl\", \"rb\") as f:\n",
        "            pca = pickle.load(f)\n",
        "\n",
        "        img_flat = img.reshape(1, -1)\n",
        "        img_scaled = scaler.transform(img_flat)\n",
        "        img_pca = pca.transform(img_scaled)\n",
        "        prediction = rf_model.predict(img_pca)[0] if model_type == \"rf\" else svm_model.predict(img_pca)[0]\n",
        "\n",
        "    label = label_encoder.inverse_transform([prediction])[0]\n",
        "    return f\"Predicted class: {label}\"\n",
        "\n",
        "# Create Gradio UI\n",
        "iface = gr.Interface(\n",
        "    fn=predict_uploaded_image,\n",
        "    inputs=[\n",
        "        gr.Image(type=\"filepath\"),\n",
        "        gr.Radio([\"cnn\", \"rf\", \"svm\"], label=\"Choose Model Type\", value=\"cnn\")\n",
        "    ],\n",
        "    outputs=\"text\"\n",
        ")\n",
        "\n",
        "iface.launch()\n"
      ],
      "metadata": {
        "id": "GYlaW6VmrpZB"
      },
      "execution_count": null,
      "outputs": []
    }
  ]
}